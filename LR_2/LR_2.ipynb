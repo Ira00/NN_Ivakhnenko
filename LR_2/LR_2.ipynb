{
  "nbformat": 4,
  "nbformat_minor": 0,
  "metadata": {
    "colab": {
      "name": "LR_2.ipynb",
      "provenance": [],
      "toc_visible": true,
      "collapsed_sections": [],
      "authorship_tag": "ABX9TyPtpQQoNjYzrmTnix9twkSI",
      "include_colab_link": true
    },
    "kernelspec": {
      "name": "python3",
      "display_name": "Python 3"
    },
    "language_info": {
      "name": "python"
    },
    "accelerator": "GPU"
  },
  "cells": [
    {
      "cell_type": "markdown",
      "metadata": {
        "id": "view-in-github",
        "colab_type": "text"
      },
      "source": [
        "<a href=\"https://colab.research.google.com/github/Ira00/nn2022/blob/main/LR_2/LR_2.ipynb\" target=\"_parent\"><img src=\"https://colab.research.google.com/assets/colab-badge.svg\" alt=\"Open In Colab\"/></a>"
      ]
    },
    {
      "cell_type": "markdown",
      "source": [
        "# Лабораторна робота №2\n",
        "студентки 3 курсу групи КН-31\n",
        "Івахненко Ірини"
      ],
      "metadata": {
        "id": "8idg2sTqr5NS"
      }
    },
    {
      "cell_type": "markdown",
      "source": [
        "## Завдання 1"
      ],
      "metadata": {
        "id": "Oe-JzXJIrm2h"
      }
    },
    {
      "cell_type": "markdown",
      "source": [
        "Cтворити набір даних із заданим розподілом (розподіл та розмір за власним рішенням), визначити його властивості (shape, rank, size, axis)\n"
      ],
      "metadata": {
        "id": "ymarfNQzsFtj"
      }
    },
    {
      "cell_type": "code",
      "source": [
        "import tensorflow as tf\n",
        "import random\n",
        "matrix = tf.constant([[[3, 4],\n",
        "                        [1, 10]],\n",
        "                       [[6, 7],\n",
        "                        [10, 22]],\n",
        "                       [[23, 6],\n",
        "                        [18, 31]]])\n",
        "\n",
        "changeable_tensor = tf.Variable([[10., 3],\n",
        "                      [5, 12]])\n",
        "\n",
        "randomN = tf.random.Generator.from_seed(22)\n",
        "\n",
        "randomN = randomN.normal(shape=(3, 2))\n",
        "print(randomN, '\\n')\n",
        "randomN = randomN * random.randint(2, 5)\n",
        "print(matrix, '\\n')\n",
        "print(randomN, '\\n')\n",
        "print('Shape: ',matrix.shape, '\\n')\n",
        "print('Rank: ',matrix.ndim, '\\n')\n",
        "print('Size: ', tf.size(matrix).numpy(), '\\n')\n",
        "print('Last axis : ',matrix.shape[-1], '\\n')\n",
        "\n"
      ],
      "metadata": {
        "id": "HplGP-sVsIlD",
        "colab": {
          "base_uri": "https://localhost:8080/"
        },
        "outputId": "da0a803d-5dab-4cdf-83fb-efbf33a31d8f"
      },
      "execution_count": 3,
      "outputs": [
        {
          "output_type": "stream",
          "name": "stdout",
          "text": [
            "tf.Tensor(\n",
            "[[-0.7531523   2.0261486 ]\n",
            " [-0.06997604  0.85445154]\n",
            " [ 0.1175475   0.03493892]], shape=(3, 2), dtype=float32) \n",
            "\n",
            "tf.Tensor(\n",
            "[[[ 3  4]\n",
            "  [ 1 10]]\n",
            "\n",
            " [[ 6  7]\n",
            "  [10 22]]\n",
            "\n",
            " [[23  6]\n",
            "  [18 31]]], shape=(3, 2, 2), dtype=int32) \n",
            "\n",
            "tf.Tensor(\n",
            "[[-3.0126092   8.104594  ]\n",
            " [-0.27990416  3.4178061 ]\n",
            " [ 0.47019     0.13975568]], shape=(3, 2), dtype=float32) \n",
            "\n",
            "Shape:  (3, 2, 2) \n",
            "\n",
            "Rank:  3 \n",
            "\n",
            "Size:  12 \n",
            "\n",
            "Last axis :  2 \n",
            "\n"
          ]
        }
      ]
    },
    {
      "cell_type": "markdown",
      "source": [
        "## Завдання 2"
      ],
      "metadata": {
        "id": "RgU8GHghQGBM"
      }
    },
    {
      "cell_type": "markdown",
      "source": [
        "Продемонструвати основні математичні операції над тензорами."
      ],
      "metadata": {
        "id": "WxanZAL1QPDr"
      }
    },
    {
      "cell_type": "code",
      "source": [
        "print(matrix)\n",
        "print('\\n Addition: \\n', matrix + 10)\n",
        "print('\\n Multiplication: \\n', matrix * 10)\n",
        "print('\\n Multiplication_2: \\n', tf.multiply(matrix, 10))\n",
        "print('\\n Subtraction: \\n', matrix - 10)\n",
        "print('\\n Matrix mutliplication: \\n', matrix @ matrix)\n",
        "print('\\n Matrix mutliplication_2: \\n', tf.matmul(matrix, matrix))\n",
        "\n",
        "print('Min: ',tf.reduce_min(matrix))\n",
        "print('Max: ',tf.reduce_max(matrix))\n",
        "print('Sum: ',tf.reduce_sum(matrix))\n"
      ],
      "metadata": {
        "colab": {
          "base_uri": "https://localhost:8080/"
        },
        "id": "wc5EiPE-QV66",
        "outputId": "11abab35-0dd5-4343-e291-35f3aa259c0d"
      },
      "execution_count": 4,
      "outputs": [
        {
          "output_type": "stream",
          "name": "stdout",
          "text": [
            "tf.Tensor(\n",
            "[[[ 3  4]\n",
            "  [ 1 10]]\n",
            "\n",
            " [[ 6  7]\n",
            "  [10 22]]\n",
            "\n",
            " [[23  6]\n",
            "  [18 31]]], shape=(3, 2, 2), dtype=int32)\n",
            "\n",
            " Addition: \n",
            " tf.Tensor(\n",
            "[[[13 14]\n",
            "  [11 20]]\n",
            "\n",
            " [[16 17]\n",
            "  [20 32]]\n",
            "\n",
            " [[33 16]\n",
            "  [28 41]]], shape=(3, 2, 2), dtype=int32)\n",
            "\n",
            " Multiplication: \n",
            " tf.Tensor(\n",
            "[[[ 30  40]\n",
            "  [ 10 100]]\n",
            "\n",
            " [[ 60  70]\n",
            "  [100 220]]\n",
            "\n",
            " [[230  60]\n",
            "  [180 310]]], shape=(3, 2, 2), dtype=int32)\n",
            "\n",
            " Multiplication_2: \n",
            " tf.Tensor(\n",
            "[[[ 30  40]\n",
            "  [ 10 100]]\n",
            "\n",
            " [[ 60  70]\n",
            "  [100 220]]\n",
            "\n",
            " [[230  60]\n",
            "  [180 310]]], shape=(3, 2, 2), dtype=int32)\n",
            "\n",
            " Subtraction: \n",
            " tf.Tensor(\n",
            "[[[-7 -6]\n",
            "  [-9  0]]\n",
            "\n",
            " [[-4 -3]\n",
            "  [ 0 12]]\n",
            "\n",
            " [[13 -4]\n",
            "  [ 8 21]]], shape=(3, 2, 2), dtype=int32)\n",
            "\n",
            " Matrix mutliplication: \n",
            " tf.Tensor(\n",
            "[[[  13   52]\n",
            "  [  13  104]]\n",
            "\n",
            " [[ 106  196]\n",
            "  [ 280  554]]\n",
            "\n",
            " [[ 637  324]\n",
            "  [ 972 1069]]], shape=(3, 2, 2), dtype=int32)\n",
            "\n",
            " Matrix mutliplication_2: \n",
            " tf.Tensor(\n",
            "[[[  13   52]\n",
            "  [  13  104]]\n",
            "\n",
            " [[ 106  196]\n",
            "  [ 280  554]]\n",
            "\n",
            " [[ 637  324]\n",
            "  [ 972 1069]]], shape=(3, 2, 2), dtype=int32)\n",
            "tf.Tensor(1, shape=(), dtype=int32)\n",
            "tf.Tensor(31, shape=(), dtype=int32)\n",
            "tf.Tensor(11, shape=(), dtype=int32)\n",
            "tf.Tensor(141, shape=(), dtype=int32)\n"
          ]
        }
      ]
    },
    {
      "cell_type": "markdown",
      "source": [
        "## Завдання 3"
      ],
      "metadata": {
        "id": "7k0dtFyXeEvd"
      }
    },
    {
      "cell_type": "markdown",
      "source": [
        "Reshape, інтеграцію з np.array"
      ],
      "metadata": {
        "id": "bEPQgd4oeKaV"
      }
    },
    {
      "cell_type": "code",
      "source": [
        "import numpy as np\n",
        "print(tf.reshape(matrix, [3,4]))\n",
        "print('\\n', np.array(matrix))\n",
        "print(type(matrix))\n",
        "print(type(np.array(matrix)))"
      ],
      "metadata": {
        "colab": {
          "base_uri": "https://localhost:8080/"
        },
        "id": "w9EV-NUCeMn-",
        "outputId": "e715f82a-a027-402e-b5f4-09de0abff887"
      },
      "execution_count": 17,
      "outputs": [
        {
          "output_type": "stream",
          "name": "stdout",
          "text": [
            "tf.Tensor(\n",
            "[[ 3  4  1 10]\n",
            " [ 6  7 10 22]\n",
            " [23  6 18 31]], shape=(3, 4), dtype=int32)\n",
            "\n",
            " [[[ 3  4]\n",
            "  [ 1 10]]\n",
            "\n",
            " [[ 6  7]\n",
            "  [10 22]]\n",
            "\n",
            " [[23  6]\n",
            "  [18 31]]]\n",
            "<class 'tensorflow.python.framework.ops.EagerTensor'>\n",
            "<class 'numpy.ndarray'>\n"
          ]
        }
      ]
    }
  ]
}