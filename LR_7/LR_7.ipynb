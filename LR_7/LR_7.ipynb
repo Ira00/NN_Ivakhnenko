{
  "nbformat": 4,
  "nbformat_minor": 0,
  "metadata": {
    "colab": {
      "name": "LR_7.ipynb",
      "provenance": [],
      "toc_visible": true,
      "authorship_tag": "ABX9TyPtcOn2/mQZWglHWCkWp9pP",
      "include_colab_link": true
    },
    "kernelspec": {
      "name": "python3",
      "display_name": "Python 3"
    },
    "language_info": {
      "name": "python"
    },
    "accelerator": "GPU"
  },
  "cells": [
    {
      "cell_type": "markdown",
      "metadata": {
        "id": "view-in-github",
        "colab_type": "text"
      },
      "source": [
        "<a href=\"https://colab.research.google.com/github/Ira00/nn2022/blob/main/LR_7/LR_7.ipynb\" target=\"_parent\"><img src=\"https://colab.research.google.com/assets/colab-badge.svg\" alt=\"Open In Colab\"/></a>"
      ]
    },
    {
      "cell_type": "markdown",
      "source": [
        "# Лабораторна робота №7\n",
        "студентки 3 курсу групи КН-31\n",
        "Івахненко Ірини"
      ],
      "metadata": {
        "id": "TTA1m8SU72r6"
      }
    },
    {
      "cell_type": "markdown",
      "source": [
        "## Завдання"
      ],
      "metadata": {
        "id": "PmHKzLcf8CfQ"
      }
    },
    {
      "cell_type": "markdown",
      "source": [
        "### На основі документу виконати прогнозування часових рядів за варіантом, що визначається порядковим номером студента в групі\n",
        "model_1_dense_w7_h1 \n"
      ],
      "metadata": {
        "id": "7S7VzJRq8EHG"
      }
    },
    {
      "cell_type": "markdown",
      "source": [
        "## Завантаження історії даних біткоїна"
      ],
      "metadata": {
        "id": "QWx9ruYj9YS9"
      }
    },
    {
      "cell_type": "code",
      "execution_count": 8,
      "metadata": {
        "colab": {
          "base_uri": "https://localhost:8080/"
        },
        "id": "aYMvR-iy7c_N",
        "outputId": "df6266c6-135f-40c0-8f91-ea4c15e094d3"
      },
      "outputs": [
        {
          "output_type": "stream",
          "name": "stdout",
          "text": [
            "--2022-05-02 09:44:01--  https://raw.githubusercontent.com/mrdbourke/tensorflow-deep-learning/main/extras/BTC_USD_2013-10-01_2021-05-18-CoinDesk.csv\n",
            "Resolving raw.githubusercontent.com (raw.githubusercontent.com)... 185.199.111.133, 185.199.109.133, 185.199.110.133, ...\n",
            "Connecting to raw.githubusercontent.com (raw.githubusercontent.com)|185.199.111.133|:443... connected.\n",
            "HTTP request sent, awaiting response... 200 OK\n",
            "Length: 178509 (174K) [text/plain]\n",
            "Saving to: ‘BTC_USD_2013-10-01_2021-05-18-CoinDesk.csv’\n",
            "\n",
            "\r          BTC_USD_2   0%[                    ]       0  --.-KB/s               \rBTC_USD_2013-10-01_ 100%[===================>] 174.33K  --.-KB/s    in 0.008s  \n",
            "\n",
            "2022-05-02 09:44:01 (21.6 MB/s) - ‘BTC_USD_2013-10-01_2021-05-18-CoinDesk.csv’ saved [178509/178509]\n",
            "\n"
          ]
        }
      ],
      "source": [
        "# Download Bitcoin historical data from GitHub \n",
        "# Note: you'll need to select \"Raw\" to download the data in the correct format\n",
        "!wget https://raw.githubusercontent.com/mrdbourke/tensorflow-deep-learning/main/extras/BTC_USD_2013-10-01_2021-05-18-CoinDesk.csv "
      ]
    },
    {
      "cell_type": "markdown",
      "source": [
        "## Імпорт даних часових рядів за допомогою pandas"
      ],
      "metadata": {
        "id": "HSe_5gE59ylL"
      }
    },
    {
      "cell_type": "code",
      "source": [
        "import pandas as pd\n",
        "# Parse dates and set date column to index\n",
        "df = pd.read_csv(\"/content/BTC_USD_2013-10-01_2021-05-18-CoinDesk.csv\", \n",
        "                 parse_dates=[\"Date\"], \n",
        "                 index_col=[\"Date\"]) # parse the date column (tell pandas column 1 is a datetime)\n",
        "df.head()"
      ],
      "metadata": {
        "colab": {
          "base_uri": "https://localhost:8080/",
          "height": 235
        },
        "id": "ofzQn0Qb93ia",
        "outputId": "a83ab03d-b13a-4e7d-c13a-21df87694db5"
      },
      "execution_count": 9,
      "outputs": [
        {
          "output_type": "execute_result",
          "data": {
            "text/plain": [
              "           Currency  Closing Price (USD)  24h Open (USD)  24h High (USD)  \\\n",
              "Date                                                                       \n",
              "2013-10-01      BTC            123.65499       124.30466       124.75166   \n",
              "2013-10-02      BTC            125.45500       123.65499       125.75850   \n",
              "2013-10-03      BTC            108.58483       125.45500       125.66566   \n",
              "2013-10-04      BTC            118.67466       108.58483       118.67500   \n",
              "2013-10-05      BTC            121.33866       118.67466       121.93633   \n",
              "\n",
              "            24h Low (USD)  \n",
              "Date                       \n",
              "2013-10-01      122.56349  \n",
              "2013-10-02      123.63383  \n",
              "2013-10-03       83.32833  \n",
              "2013-10-04      107.05816  \n",
              "2013-10-05      118.00566  "
            ],
            "text/html": [
              "\n",
              "  <div id=\"df-b8b01971-209f-4bbe-bc66-83ef8afe45e7\">\n",
              "    <div class=\"colab-df-container\">\n",
              "      <div>\n",
              "<style scoped>\n",
              "    .dataframe tbody tr th:only-of-type {\n",
              "        vertical-align: middle;\n",
              "    }\n",
              "\n",
              "    .dataframe tbody tr th {\n",
              "        vertical-align: top;\n",
              "    }\n",
              "\n",
              "    .dataframe thead th {\n",
              "        text-align: right;\n",
              "    }\n",
              "</style>\n",
              "<table border=\"1\" class=\"dataframe\">\n",
              "  <thead>\n",
              "    <tr style=\"text-align: right;\">\n",
              "      <th></th>\n",
              "      <th>Currency</th>\n",
              "      <th>Closing Price (USD)</th>\n",
              "      <th>24h Open (USD)</th>\n",
              "      <th>24h High (USD)</th>\n",
              "      <th>24h Low (USD)</th>\n",
              "    </tr>\n",
              "    <tr>\n",
              "      <th>Date</th>\n",
              "      <th></th>\n",
              "      <th></th>\n",
              "      <th></th>\n",
              "      <th></th>\n",
              "      <th></th>\n",
              "    </tr>\n",
              "  </thead>\n",
              "  <tbody>\n",
              "    <tr>\n",
              "      <th>2013-10-01</th>\n",
              "      <td>BTC</td>\n",
              "      <td>123.65499</td>\n",
              "      <td>124.30466</td>\n",
              "      <td>124.75166</td>\n",
              "      <td>122.56349</td>\n",
              "    </tr>\n",
              "    <tr>\n",
              "      <th>2013-10-02</th>\n",
              "      <td>BTC</td>\n",
              "      <td>125.45500</td>\n",
              "      <td>123.65499</td>\n",
              "      <td>125.75850</td>\n",
              "      <td>123.63383</td>\n",
              "    </tr>\n",
              "    <tr>\n",
              "      <th>2013-10-03</th>\n",
              "      <td>BTC</td>\n",
              "      <td>108.58483</td>\n",
              "      <td>125.45500</td>\n",
              "      <td>125.66566</td>\n",
              "      <td>83.32833</td>\n",
              "    </tr>\n",
              "    <tr>\n",
              "      <th>2013-10-04</th>\n",
              "      <td>BTC</td>\n",
              "      <td>118.67466</td>\n",
              "      <td>108.58483</td>\n",
              "      <td>118.67500</td>\n",
              "      <td>107.05816</td>\n",
              "    </tr>\n",
              "    <tr>\n",
              "      <th>2013-10-05</th>\n",
              "      <td>BTC</td>\n",
              "      <td>121.33866</td>\n",
              "      <td>118.67466</td>\n",
              "      <td>121.93633</td>\n",
              "      <td>118.00566</td>\n",
              "    </tr>\n",
              "  </tbody>\n",
              "</table>\n",
              "</div>\n",
              "      <button class=\"colab-df-convert\" onclick=\"convertToInteractive('df-b8b01971-209f-4bbe-bc66-83ef8afe45e7')\"\n",
              "              title=\"Convert this dataframe to an interactive table.\"\n",
              "              style=\"display:none;\">\n",
              "        \n",
              "  <svg xmlns=\"http://www.w3.org/2000/svg\" height=\"24px\"viewBox=\"0 0 24 24\"\n",
              "       width=\"24px\">\n",
              "    <path d=\"M0 0h24v24H0V0z\" fill=\"none\"/>\n",
              "    <path d=\"M18.56 5.44l.94 2.06.94-2.06 2.06-.94-2.06-.94-.94-2.06-.94 2.06-2.06.94zm-11 1L8.5 8.5l.94-2.06 2.06-.94-2.06-.94L8.5 2.5l-.94 2.06-2.06.94zm10 10l.94 2.06.94-2.06 2.06-.94-2.06-.94-.94-2.06-.94 2.06-2.06.94z\"/><path d=\"M17.41 7.96l-1.37-1.37c-.4-.4-.92-.59-1.43-.59-.52 0-1.04.2-1.43.59L10.3 9.45l-7.72 7.72c-.78.78-.78 2.05 0 2.83L4 21.41c.39.39.9.59 1.41.59.51 0 1.02-.2 1.41-.59l7.78-7.78 2.81-2.81c.8-.78.8-2.07 0-2.86zM5.41 20L4 18.59l7.72-7.72 1.47 1.35L5.41 20z\"/>\n",
              "  </svg>\n",
              "      </button>\n",
              "      \n",
              "  <style>\n",
              "    .colab-df-container {\n",
              "      display:flex;\n",
              "      flex-wrap:wrap;\n",
              "      gap: 12px;\n",
              "    }\n",
              "\n",
              "    .colab-df-convert {\n",
              "      background-color: #E8F0FE;\n",
              "      border: none;\n",
              "      border-radius: 50%;\n",
              "      cursor: pointer;\n",
              "      display: none;\n",
              "      fill: #1967D2;\n",
              "      height: 32px;\n",
              "      padding: 0 0 0 0;\n",
              "      width: 32px;\n",
              "    }\n",
              "\n",
              "    .colab-df-convert:hover {\n",
              "      background-color: #E2EBFA;\n",
              "      box-shadow: 0px 1px 2px rgba(60, 64, 67, 0.3), 0px 1px 3px 1px rgba(60, 64, 67, 0.15);\n",
              "      fill: #174EA6;\n",
              "    }\n",
              "\n",
              "    [theme=dark] .colab-df-convert {\n",
              "      background-color: #3B4455;\n",
              "      fill: #D2E3FC;\n",
              "    }\n",
              "\n",
              "    [theme=dark] .colab-df-convert:hover {\n",
              "      background-color: #434B5C;\n",
              "      box-shadow: 0px 1px 3px 1px rgba(0, 0, 0, 0.15);\n",
              "      filter: drop-shadow(0px 1px 2px rgba(0, 0, 0, 0.3));\n",
              "      fill: #FFFFFF;\n",
              "    }\n",
              "  </style>\n",
              "\n",
              "      <script>\n",
              "        const buttonEl =\n",
              "          document.querySelector('#df-b8b01971-209f-4bbe-bc66-83ef8afe45e7 button.colab-df-convert');\n",
              "        buttonEl.style.display =\n",
              "          google.colab.kernel.accessAllowed ? 'block' : 'none';\n",
              "\n",
              "        async function convertToInteractive(key) {\n",
              "          const element = document.querySelector('#df-b8b01971-209f-4bbe-bc66-83ef8afe45e7');\n",
              "          const dataTable =\n",
              "            await google.colab.kernel.invokeFunction('convertToInteractive',\n",
              "                                                     [key], {});\n",
              "          if (!dataTable) return;\n",
              "\n",
              "          const docLinkHtml = 'Like what you see? Visit the ' +\n",
              "            '<a target=\"_blank\" href=https://colab.research.google.com/notebooks/data_table.ipynb>data table notebook</a>'\n",
              "            + ' to learn more about interactive tables.';\n",
              "          element.innerHTML = '';\n",
              "          dataTable['output_type'] = 'display_data';\n",
              "          await google.colab.output.renderOutput(dataTable, element);\n",
              "          const docLink = document.createElement('div');\n",
              "          docLink.innerHTML = docLinkHtml;\n",
              "          element.appendChild(docLink);\n",
              "        }\n",
              "      </script>\n",
              "    </div>\n",
              "  </div>\n",
              "  "
            ]
          },
          "metadata": {},
          "execution_count": 9
        }
      ]
    },
    {
      "cell_type": "markdown",
      "source": [
        "## Скільки зразків у нас є?"
      ],
      "metadata": {
        "id": "ApLc1dOJ-FbO"
      }
    },
    {
      "cell_type": "code",
      "source": [
        "len(df)"
      ],
      "metadata": {
        "colab": {
          "base_uri": "https://localhost:8080/"
        },
        "id": "UsQF17I5-Ggk",
        "outputId": "c7cff402-c658-45ae-c62d-842ef9375bde"
      },
      "execution_count": 10,
      "outputs": [
        {
          "output_type": "execute_result",
          "data": {
            "text/plain": [
              "2787"
            ]
          },
          "metadata": {},
          "execution_count": 10
        }
      ]
    },
    {
      "cell_type": "markdown",
      "source": [
        "## Залишимо лише ціну дня для даних"
      ],
      "metadata": {
        "id": "VoyF2ceS-YGc"
      }
    },
    {
      "cell_type": "code",
      "source": [
        "bitcoin_prices = pd.DataFrame(df[\"Closing Price (USD)\"]).rename(columns={\"Closing Price (USD)\": \"Price\"})\n",
        "bitcoin_prices.head()"
      ],
      "metadata": {
        "colab": {
          "base_uri": "https://localhost:8080/",
          "height": 235
        },
        "id": "4ICY9S1c-d6P",
        "outputId": "0939014d-04b2-470b-ae7c-d3e51abb5e9c"
      },
      "execution_count": 11,
      "outputs": [
        {
          "output_type": "execute_result",
          "data": {
            "text/plain": [
              "                Price\n",
              "Date                 \n",
              "2013-10-01  123.65499\n",
              "2013-10-02  125.45500\n",
              "2013-10-03  108.58483\n",
              "2013-10-04  118.67466\n",
              "2013-10-05  121.33866"
            ],
            "text/html": [
              "\n",
              "  <div id=\"df-5ef188a5-3bdb-4d06-a1a2-28c5c0c7b9aa\">\n",
              "    <div class=\"colab-df-container\">\n",
              "      <div>\n",
              "<style scoped>\n",
              "    .dataframe tbody tr th:only-of-type {\n",
              "        vertical-align: middle;\n",
              "    }\n",
              "\n",
              "    .dataframe tbody tr th {\n",
              "        vertical-align: top;\n",
              "    }\n",
              "\n",
              "    .dataframe thead th {\n",
              "        text-align: right;\n",
              "    }\n",
              "</style>\n",
              "<table border=\"1\" class=\"dataframe\">\n",
              "  <thead>\n",
              "    <tr style=\"text-align: right;\">\n",
              "      <th></th>\n",
              "      <th>Price</th>\n",
              "    </tr>\n",
              "    <tr>\n",
              "      <th>Date</th>\n",
              "      <th></th>\n",
              "    </tr>\n",
              "  </thead>\n",
              "  <tbody>\n",
              "    <tr>\n",
              "      <th>2013-10-01</th>\n",
              "      <td>123.65499</td>\n",
              "    </tr>\n",
              "    <tr>\n",
              "      <th>2013-10-02</th>\n",
              "      <td>125.45500</td>\n",
              "    </tr>\n",
              "    <tr>\n",
              "      <th>2013-10-03</th>\n",
              "      <td>108.58483</td>\n",
              "    </tr>\n",
              "    <tr>\n",
              "      <th>2013-10-04</th>\n",
              "      <td>118.67466</td>\n",
              "    </tr>\n",
              "    <tr>\n",
              "      <th>2013-10-05</th>\n",
              "      <td>121.33866</td>\n",
              "    </tr>\n",
              "  </tbody>\n",
              "</table>\n",
              "</div>\n",
              "      <button class=\"colab-df-convert\" onclick=\"convertToInteractive('df-5ef188a5-3bdb-4d06-a1a2-28c5c0c7b9aa')\"\n",
              "              title=\"Convert this dataframe to an interactive table.\"\n",
              "              style=\"display:none;\">\n",
              "        \n",
              "  <svg xmlns=\"http://www.w3.org/2000/svg\" height=\"24px\"viewBox=\"0 0 24 24\"\n",
              "       width=\"24px\">\n",
              "    <path d=\"M0 0h24v24H0V0z\" fill=\"none\"/>\n",
              "    <path d=\"M18.56 5.44l.94 2.06.94-2.06 2.06-.94-2.06-.94-.94-2.06-.94 2.06-2.06.94zm-11 1L8.5 8.5l.94-2.06 2.06-.94-2.06-.94L8.5 2.5l-.94 2.06-2.06.94zm10 10l.94 2.06.94-2.06 2.06-.94-2.06-.94-.94-2.06-.94 2.06-2.06.94z\"/><path d=\"M17.41 7.96l-1.37-1.37c-.4-.4-.92-.59-1.43-.59-.52 0-1.04.2-1.43.59L10.3 9.45l-7.72 7.72c-.78.78-.78 2.05 0 2.83L4 21.41c.39.39.9.59 1.41.59.51 0 1.02-.2 1.41-.59l7.78-7.78 2.81-2.81c.8-.78.8-2.07 0-2.86zM5.41 20L4 18.59l7.72-7.72 1.47 1.35L5.41 20z\"/>\n",
              "  </svg>\n",
              "      </button>\n",
              "      \n",
              "  <style>\n",
              "    .colab-df-container {\n",
              "      display:flex;\n",
              "      flex-wrap:wrap;\n",
              "      gap: 12px;\n",
              "    }\n",
              "\n",
              "    .colab-df-convert {\n",
              "      background-color: #E8F0FE;\n",
              "      border: none;\n",
              "      border-radius: 50%;\n",
              "      cursor: pointer;\n",
              "      display: none;\n",
              "      fill: #1967D2;\n",
              "      height: 32px;\n",
              "      padding: 0 0 0 0;\n",
              "      width: 32px;\n",
              "    }\n",
              "\n",
              "    .colab-df-convert:hover {\n",
              "      background-color: #E2EBFA;\n",
              "      box-shadow: 0px 1px 2px rgba(60, 64, 67, 0.3), 0px 1px 3px 1px rgba(60, 64, 67, 0.15);\n",
              "      fill: #174EA6;\n",
              "    }\n",
              "\n",
              "    [theme=dark] .colab-df-convert {\n",
              "      background-color: #3B4455;\n",
              "      fill: #D2E3FC;\n",
              "    }\n",
              "\n",
              "    [theme=dark] .colab-df-convert:hover {\n",
              "      background-color: #434B5C;\n",
              "      box-shadow: 0px 1px 3px 1px rgba(0, 0, 0, 0.15);\n",
              "      filter: drop-shadow(0px 1px 2px rgba(0, 0, 0, 0.3));\n",
              "      fill: #FFFFFF;\n",
              "    }\n",
              "  </style>\n",
              "\n",
              "      <script>\n",
              "        const buttonEl =\n",
              "          document.querySelector('#df-5ef188a5-3bdb-4d06-a1a2-28c5c0c7b9aa button.colab-df-convert');\n",
              "        buttonEl.style.display =\n",
              "          google.colab.kernel.accessAllowed ? 'block' : 'none';\n",
              "\n",
              "        async function convertToInteractive(key) {\n",
              "          const element = document.querySelector('#df-5ef188a5-3bdb-4d06-a1a2-28c5c0c7b9aa');\n",
              "          const dataTable =\n",
              "            await google.colab.kernel.invokeFunction('convertToInteractive',\n",
              "                                                     [key], {});\n",
              "          if (!dataTable) return;\n",
              "\n",
              "          const docLinkHtml = 'Like what you see? Visit the ' +\n",
              "            '<a target=\"_blank\" href=https://colab.research.google.com/notebooks/data_table.ipynb>data table notebook</a>'\n",
              "            + ' to learn more about interactive tables.';\n",
              "          element.innerHTML = '';\n",
              "          dataTable['output_type'] = 'display_data';\n",
              "          await google.colab.output.renderOutput(dataTable, element);\n",
              "          const docLink = document.createElement('div');\n",
              "          docLink.innerHTML = docLinkHtml;\n",
              "          element.appendChild(docLink);\n",
              "        }\n",
              "      </script>\n",
              "    </div>\n",
              "  </div>\n",
              "  "
            ]
          },
          "metadata": {},
          "execution_count": 11
        }
      ]
    },
    {
      "cell_type": "markdown",
      "source": [
        "## Відобразимо зміну ціни з 2018 року"
      ],
      "metadata": {
        "id": "Ni1Gko21-j5u"
      }
    },
    {
      "cell_type": "code",
      "source": [
        "import matplotlib.pyplot as plt\n",
        "bitcoin_prices.loc['2018-1-1':'2021-5-18'].plot(figsize=(10, 7))\n",
        "plt.ylabel(\"BTC Price\")\n",
        "plt.title(\"Price of Bitcoin from 1 Jan 2018 to 18 May 2021\", fontsize=16)\n",
        "plt.legend(fontsize=14);"
      ],
      "metadata": {
        "colab": {
          "base_uri": "https://localhost:8080/",
          "height": 472
        },
        "id": "qEbkyBfB-uCO",
        "outputId": "b9d6a8ef-d4cc-4ae7-a1ea-22351e659f96"
      },
      "execution_count": 12,
      "outputs": [
        {
          "output_type": "display_data",
          "data": {
            "text/plain": [
              "<Figure size 720x504 with 1 Axes>"
            ],
            "image/png": "[encoded data removed]"
          },
          "metadata": {
            "needs_background": "light"
          }
        }
      ]
    },
    {
      "cell_type": "code",
      "source": [
        "HORIZON = 1\n",
        "WINDOW_SIZE = 7"
      ],
      "metadata": {
        "id": "0pvmUS3bCK25"
      },
      "execution_count": 13,
      "outputs": []
    },
    {
      "cell_type": "markdown",
      "source": [
        "## Функція позначення windowed data"
      ],
      "metadata": {
        "id": "Roz4Bb4_CNqE"
      }
    },
    {
      "cell_type": "code",
      "source": [
        "import tensorflow as tf\n",
        "\n",
        "def get_labelled_windows(x, horizon=1):\n",
        "  return x[:, :-horizon], x[:, -horizon:]\n",
        "\n",
        "test_window, test_label = get_labelled_windows(tf.expand_dims(tf.range(8)+1, axis=0), horizon=HORIZON)\n",
        "print(f\"Window: {tf.squeeze(test_window).numpy()} -> Label: {tf.squeeze(test_label).numpy()}\")"
      ],
      "metadata": {
        "colab": {
          "base_uri": "https://localhost:8080/"
        },
        "id": "EbwE4uheDOVg",
        "outputId": "274b719c-c9a4-460d-f2cf-a603793079c3"
      },
      "execution_count": 14,
      "outputs": [
        {
          "output_type": "stream",
          "name": "stdout",
          "text": [
            "Window: [1 2 3 4 5 6 7] -> Label: 8\n"
          ]
        }
      ]
    },
    {
      "cell_type": "markdown",
      "source": [
        "## Функція перегляду масивів NumPy як вікон"
      ],
      "metadata": {
        "id": "AnjFzsQ_EBPH"
      }
    },
    {
      "cell_type": "code",
      "source": [
        "import numpy as np\n",
        "\n",
        "def make_windows(x, window_size=7, horizon=1):\n",
        "  window_step = np.expand_dims(np.arange(window_size+horizon), axis=0)\n",
        "  window_indexes = window_step + np.expand_dims(np.arange(len(x)-(window_size+horizon-1)), axis=0).T # create 2D array of windows of size window_size\n",
        "  windowed_array = x[window_indexes]\n",
        "  windows, labels = get_labelled_windows(windowed_array, horizon=horizon)\n",
        "\n",
        "  return windows, labels\n",
        "\n",
        "prices = bitcoin_prices[\"Price\"].to_numpy()\n",
        "timesteps = bitcoin_prices.index.to_numpy()\n",
        "full_windows, full_labels = make_windows(prices, window_size=WINDOW_SIZE, horizon=HORIZON)\n",
        "len(full_windows), len(full_labels)"
      ],
      "metadata": {
        "colab": {
          "base_uri": "https://localhost:8080/"
        },
        "id": "kU5PjXc6EC1m",
        "outputId": "8a1083d7-a374-412a-9c58-1a9408b1bdd9"
      },
      "execution_count": 15,
      "outputs": [
        {
          "output_type": "execute_result",
          "data": {
            "text/plain": [
              "(2780, 2780)"
            ]
          },
          "metadata": {},
          "execution_count": 15
        }
      ]
    },
    {
      "cell_type": "code",
      "source": [
        "split_size = int(0.8 * len(prices)) # 80% train, 20% test\n",
        "\n",
        "X_train, y_train = timesteps[:split_size], prices[:split_size]\n",
        "\n",
        "X_test, y_test = timesteps[split_size:], prices[split_size:]"
      ],
      "metadata": {
        "id": "zu7vVpSCJpf9"
      },
      "execution_count": 16,
      "outputs": []
    },
    {
      "cell_type": "markdown",
      "source": [
        "## Переглянемо перші 3 windows/labels"
      ],
      "metadata": {
        "id": "BTVrn2-AFIeK"
      }
    },
    {
      "cell_type": "code",
      "source": [
        "for i in range(3):\n",
        "  print(f\"Window: {full_windows[i]} -> Label: {full_labels[i]}\")"
      ],
      "metadata": {
        "colab": {
          "base_uri": "https://localhost:8080/"
        },
        "id": "lUnEDSDRFOfS",
        "outputId": "a461acfd-2971-4f34-c300-7fefc150cd76"
      },
      "execution_count": 17,
      "outputs": [
        {
          "output_type": "stream",
          "name": "stdout",
          "text": [
            "Window: [123.65499 125.455   108.58483 118.67466 121.33866 120.65533 121.795  ] -> Label: [123.033]\n",
            "Window: [125.455   108.58483 118.67466 121.33866 120.65533 121.795   123.033  ] -> Label: [124.049]\n",
            "Window: [108.58483 118.67466 121.33866 120.65533 121.795   123.033   124.049  ] -> Label: [125.96116]\n"
          ]
        }
      ]
    },
    {
      "cell_type": "markdown",
      "source": [
        "## Створимо тренувальну і тестову вибірки"
      ],
      "metadata": {
        "id": "lIJTIJU5Fyfu"
      }
    },
    {
      "cell_type": "code",
      "source": [
        "def make_train_test_splits(windows, labels, test_split=0.2):\n",
        "  split_size = int(len(windows) * (1-test_split)) # this will default to 80% train/20% test\n",
        "  train_windows = windows[:split_size]\n",
        "  train_labels = labels[:split_size]\n",
        "  test_windows = windows[split_size:]\n",
        "  test_labels = labels[split_size:]\n",
        "  return train_windows, test_windows, train_labels, test_labels\n",
        "\n",
        "train_windows, test_windows, train_labels, test_labels = make_train_test_splits(full_windows, full_labels)\n",
        "len(train_windows), len(test_windows), len(train_labels), len(test_labels)"
      ],
      "metadata": {
        "colab": {
          "base_uri": "https://localhost:8080/"
        },
        "id": "caL4QmlOGEKg",
        "outputId": "196743f9-4182-4108-a241-59b0aa10bf3a"
      },
      "execution_count": 18,
      "outputs": [
        {
          "output_type": "execute_result",
          "data": {
            "text/plain": [
              "(2224, 556, 2224, 556)"
            ]
          },
          "metadata": {},
          "execution_count": 18
        }
      ]
    },
    {
      "cell_type": "markdown",
      "source": [
        "## Тренування мережі"
      ],
      "metadata": {
        "id": "nMfSA9grGZz4"
      }
    },
    {
      "cell_type": "code",
      "source": [
        "import tensorflow as tf\n",
        "from tensorflow.keras import layers\n",
        "import os\n",
        "\n",
        "def create_model_checkpoint(model_name, save_path=\"model_experiments\"):\n",
        "  return tf.keras.callbacks.ModelCheckpoint(filepath=os.path.join(save_path, model_name), # create filepath to save model\n",
        "                                            verbose=0, # only output a limited amount of text\n",
        "                                            save_best_only=True) # save only the best model to file\n",
        "tf.random.set_seed(42)\n",
        "\n",
        "model_1 = tf.keras.Sequential([\n",
        "  layers.Dense(128, activation=\"relu\"),\n",
        "  layers.Dense(HORIZON, activation=\"linear\") # linear activation is the same as having no activation                        \n",
        "], name=\"model_1_dense\") # give the model a name so we can save it\n",
        "\n",
        "model_1.compile(loss=\"mae\",\n",
        "                optimizer=tf.keras.optimizers.Adam(),\n",
        "                metrics=[\"mae\"]) # we don't necessarily need this when the loss function is already MAE\n",
        "\n",
        "model_1.fit(x=train_windows, # train windows of 7 timesteps of Bitcoin prices\n",
        "            y=train_labels, # horizon value of 1 (using the previous 7 timesteps to predict next day)\n",
        "            epochs=100,\n",
        "            verbose=1,\n",
        "            batch_size=128,\n",
        "            validation_data=(test_windows, test_labels),\n",
        "            callbacks=[create_model_checkpoint(model_name=model_1.name)]) # create ModelCheckpoint callback to save best model"
      ],
      "metadata": {
        "colab": {
          "base_uri": "https://localhost:8080/"
        },
        "id": "wh9wzFL-Gcye",
        "outputId": "4ef2dc57-a17a-4ed5-a207-59ba21badbe5"
      },
      "execution_count": 19,
      "outputs": [
        {
          "output_type": "stream",
          "name": "stdout",
          "text": [
            "Epoch 1/100\n",
            " 1/18 [>.............................] - ETA: 49s - loss: 2111.0571 - mae: 2111.0571INFO:tensorflow:Assets written to: model_experiments/model_1_dense/assets\n",
            "18/18 [==============================] - 4s 39ms/step - loss: 780.3455 - mae: 780.3455 - val_loss: 2279.6528 - val_mae: 2279.6528\n",
            "Epoch 2/100\n",
            " 1/18 [>.............................] - ETA: 0s - loss: 348.8859 - mae: 348.8859INFO:tensorflow:Assets written to: model_experiments/model_1_dense/assets\n",
            "18/18 [==============================] - 0s 26ms/step - loss: 247.6756 - mae: 247.6756 - val_loss: 1005.9993 - val_mae: 1005.9993\n",
            "Epoch 3/100\n",
            " 1/18 [>.............................] - ETA: 0s - loss: 134.4855 - mae: 134.4855INFO:tensorflow:Assets written to: model_experiments/model_1_dense/assets\n",
            "18/18 [==============================] - 0s 24ms/step - loss: 188.4116 - mae: 188.4116 - val_loss: 923.2862 - val_mae: 923.2861\n",
            "Epoch 4/100\n",
            " 1/18 [>.............................] - ETA: 0s - loss: 211.3724 - mae: 211.3724INFO:tensorflow:Assets written to: model_experiments/model_1_dense/assets\n",
            "18/18 [==============================] - 0s 25ms/step - loss: 169.4340 - mae: 169.4340 - val_loss: 900.5872 - val_mae: 900.5872\n",
            "Epoch 5/100\n",
            " 1/18 [>.............................] - ETA: 0s - loss: 155.7325 - mae: 155.7325INFO:tensorflow:Assets written to: model_experiments/model_1_dense/assets\n",
            "18/18 [==============================] - 0s 25ms/step - loss: 165.0894 - mae: 165.0894 - val_loss: 895.2237 - val_mae: 895.2237\n",
            "Epoch 6/100\n",
            " 1/18 [>.............................] - ETA: 0s - loss: 117.3681 - mae: 117.3681INFO:tensorflow:Assets written to: model_experiments/model_1_dense/assets\n",
            "18/18 [==============================] - 0s 24ms/step - loss: 158.5210 - mae: 158.5210 - val_loss: 855.1984 - val_mae: 855.1984\n",
            "Epoch 7/100\n",
            " 1/18 [>.............................] - ETA: 0s - loss: 180.3349 - mae: 180.3349INFO:tensorflow:Assets written to: model_experiments/model_1_dense/assets\n",
            "18/18 [==============================] - 0s 24ms/step - loss: 151.3566 - mae: 151.3566 - val_loss: 840.9166 - val_mae: 840.9166\n",
            "Epoch 8/100\n",
            " 1/18 [>.............................] - ETA: 0s - loss: 121.1138 - mae: 121.1138INFO:tensorflow:Assets written to: model_experiments/model_1_dense/assets\n",
            "18/18 [==============================] - 0s 25ms/step - loss: 145.2560 - mae: 145.2560 - val_loss: 803.5956 - val_mae: 803.5956\n",
            "Epoch 9/100\n",
            " 1/18 [>.............................] - ETA: 0s - loss: 126.2215 - mae: 126.2215INFO:tensorflow:Assets written to: model_experiments/model_1_dense/assets\n",
            "18/18 [==============================] - 0s 27ms/step - loss: 144.3546 - mae: 144.3546 - val_loss: 799.5454 - val_mae: 799.5454\n",
            "Epoch 10/100\n",
            " 1/18 [>.............................] - ETA: 0s - loss: 148.4502 - mae: 148.4502INFO:tensorflow:Assets written to: model_experiments/model_1_dense/assets\n",
            "18/18 [==============================] - 0s 25ms/step - loss: 141.2943 - mae: 141.2943 - val_loss: 763.5010 - val_mae: 763.5010\n",
            "Epoch 11/100\n",
            "18/18 [==============================] - 0s 4ms/step - loss: 135.6595 - mae: 135.6595 - val_loss: 771.3356 - val_mae: 771.3356\n",
            "Epoch 12/100\n",
            "18/18 [==============================] - 0s 4ms/step - loss: 134.1700 - mae: 134.1700 - val_loss: 782.8079 - val_mae: 782.8079\n",
            "Epoch 13/100\n",
            "18/18 [==============================] - 0s 4ms/step - loss: 134.6015 - mae: 134.6015 - val_loss: 784.4449 - val_mae: 784.4449\n",
            "Epoch 14/100\n",
            " 1/18 [>.............................] - ETA: 0s - loss: 136.5593 - mae: 136.5593INFO:tensorflow:Assets written to: model_experiments/model_1_dense/assets\n",
            "18/18 [==============================] - 0s 25ms/step - loss: 130.6127 - mae: 130.6127 - val_loss: 751.3234 - val_mae: 751.3233\n",
            "Epoch 15/100\n",
            " 1/18 [>.............................] - ETA: 0s - loss: 131.5350 - mae: 131.5350INFO:tensorflow:Assets written to: model_experiments/model_1_dense/assets\n",
            "18/18 [==============================] - 1s 35ms/step - loss: 128.8347 - mae: 128.8347 - val_loss: 696.5756 - val_mae: 696.5756\n",
            "Epoch 16/100\n",
            "18/18 [==============================] - 0s 4ms/step - loss: 124.7739 - mae: 124.7739 - val_loss: 702.4698 - val_mae: 702.4698\n",
            "Epoch 17/100\n",
            "18/18 [==============================] - 0s 4ms/step - loss: 123.4474 - mae: 123.4474 - val_loss: 704.9239 - val_mae: 704.9239\n",
            "Epoch 18/100\n",
            " 1/18 [>.............................] - ETA: 0s - loss: 137.2540 - mae: 137.2540INFO:tensorflow:Assets written to: model_experiments/model_1_dense/assets\n",
            "18/18 [==============================] - 0s 25ms/step - loss: 122.2105 - mae: 122.2105 - val_loss: 667.9724 - val_mae: 667.9724\n",
            "Epoch 19/100\n",
            "18/18 [==============================] - 0s 5ms/step - loss: 121.7263 - mae: 121.7263 - val_loss: 718.8796 - val_mae: 718.8796\n",
            "Epoch 20/100\n",
            " 1/18 [>.............................] - ETA: 0s - loss: 135.2646 - mae: 135.2646INFO:tensorflow:Assets written to: model_experiments/model_1_dense/assets\n",
            "18/18 [==============================] - 0s 26ms/step - loss: 119.2420 - mae: 119.2420 - val_loss: 657.0666 - val_mae: 657.0666\n",
            "Epoch 21/100\n",
            " 1/18 [>.............................] - ETA: 0s - loss: 129.2764 - mae: 129.2764INFO:tensorflow:Assets written to: model_experiments/model_1_dense/assets\n",
            "18/18 [==============================] - 0s 24ms/step - loss: 121.2275 - mae: 121.2275 - val_loss: 637.0333 - val_mae: 637.0333\n",
            "Epoch 22/100\n",
            "18/18 [==============================] - 0s 5ms/step - loss: 119.9544 - mae: 119.9544 - val_loss: 671.2488 - val_mae: 671.2488\n",
            "Epoch 23/100\n",
            " 1/18 [>.............................] - ETA: 0s - loss: 116.0426 - mae: 116.0426INFO:tensorflow:Assets written to: model_experiments/model_1_dense/assets\n",
            "18/18 [==============================] - 0s 25ms/step - loss: 121.9248 - mae: 121.9248 - val_loss: 633.3592 - val_mae: 633.3592\n",
            "Epoch 24/100\n",
            " 1/18 [>.............................] - ETA: 0s - loss: 124.4803 - mae: 124.4803INFO:tensorflow:Assets written to: model_experiments/model_1_dense/assets\n",
            "18/18 [==============================] - 0s 24ms/step - loss: 116.3665 - mae: 116.3665 - val_loss: 624.4852 - val_mae: 624.4852\n",
            "Epoch 25/100\n",
            " 1/18 [>.............................] - ETA: 0s - loss: 123.8925 - mae: 123.8925INFO:tensorflow:Assets written to: model_experiments/model_1_dense/assets\n",
            "18/18 [==============================] - 0s 25ms/step - loss: 114.6816 - mae: 114.6816 - val_loss: 619.7570 - val_mae: 619.7570\n",
            "Epoch 26/100\n",
            " 1/18 [>.............................] - ETA: 0s - loss: 110.2667 - mae: 110.2667INFO:tensorflow:Assets written to: model_experiments/model_1_dense/assets\n",
            "18/18 [==============================] - 0s 25ms/step - loss: 116.4455 - mae: 116.4455 - val_loss: 615.6364 - val_mae: 615.6364\n",
            "Epoch 27/100\n",
            "18/18 [==============================] - 0s 4ms/step - loss: 116.5868 - mae: 116.5868 - val_loss: 615.9629 - val_mae: 615.9629\n",
            "Epoch 28/100\n",
            " 1/18 [>.............................] - ETA: 0s - loss: 102.5480 - mae: 102.5480INFO:tensorflow:Assets written to: model_experiments/model_1_dense/assets\n",
            "18/18 [==============================] - 0s 25ms/step - loss: 113.4691 - mae: 113.4691 - val_loss: 608.0921 - val_mae: 608.0921\n",
            "Epoch 29/100\n",
            "18/18 [==============================] - 0s 4ms/step - loss: 113.7598 - mae: 113.7598 - val_loss: 621.9305 - val_mae: 621.9305\n",
            "Epoch 30/100\n",
            " 1/18 [>.............................] - ETA: 0s - loss: 124.9585 - mae: 124.9585INFO:tensorflow:Assets written to: model_experiments/model_1_dense/assets\n",
            "18/18 [==============================] - 0s 25ms/step - loss: 116.8613 - mae: 116.8613 - val_loss: 604.4056 - val_mae: 604.4056\n",
            "Epoch 31/100\n",
            "18/18 [==============================] - 0s 4ms/step - loss: 111.9375 - mae: 111.9375 - val_loss: 609.3882 - val_mae: 609.3882\n",
            "Epoch 32/100\n",
            " 1/18 [>.............................] - ETA: 0s - loss: 107.0553 - mae: 107.0553INFO:tensorflow:Assets written to: model_experiments/model_1_dense/assets\n",
            "18/18 [==============================] - 0s 24ms/step - loss: 112.4175 - mae: 112.4175 - val_loss: 603.0588 - val_mae: 603.0588\n",
            "Epoch 33/100\n",
            "18/18 [==============================] - 0s 4ms/step - loss: 112.6697 - mae: 112.6697 - val_loss: 645.6973 - val_mae: 645.6973\n",
            "Epoch 34/100\n",
            "18/18 [==============================] - 0s 4ms/step - loss: 111.9867 - mae: 111.9867 - val_loss: 604.7634 - val_mae: 604.7634\n",
            "Epoch 35/100\n",
            " 1/18 [>.............................] - ETA: 0s - loss: 103.6643 - mae: 103.6643INFO:tensorflow:Assets written to: model_experiments/model_1_dense/assets\n",
            "18/18 [==============================] - 0s 25ms/step - loss: 110.9451 - mae: 110.9451 - val_loss: 593.4648 - val_mae: 593.4648\n",
            "Epoch 36/100\n",
            "18/18 [==============================] - 0s 4ms/step - loss: 114.4816 - mae: 114.4816 - val_loss: 608.0074 - val_mae: 608.0074\n",
            "Epoch 37/100\n",
            "18/18 [==============================] - 0s 4ms/step - loss: 110.2016 - mae: 110.2016 - val_loss: 597.2308 - val_mae: 597.2308\n",
            "Epoch 38/100\n",
            "18/18 [==============================] - 0s 4ms/step - loss: 112.2372 - mae: 112.2372 - val_loss: 637.9798 - val_mae: 637.9798\n",
            "Epoch 39/100\n",
            " 1/18 [>.............................] - ETA: 0s - loss: 131.5377 - mae: 131.5377INFO:tensorflow:Assets written to: model_experiments/model_1_dense/assets\n",
            "18/18 [==============================] - 0s 25ms/step - loss: 115.1289 - mae: 115.1289 - val_loss: 587.4680 - val_mae: 587.4680\n",
            "Epoch 40/100\n",
            "18/18 [==============================] - 0s 4ms/step - loss: 110.0854 - mae: 110.0854 - val_loss: 592.7117 - val_mae: 592.7117\n",
            "Epoch 41/100\n",
            "18/18 [==============================] - 0s 4ms/step - loss: 110.6344 - mae: 110.6344 - val_loss: 593.8997 - val_mae: 593.8997\n",
            "Epoch 42/100\n",
            "18/18 [==============================] - 0s 4ms/step - loss: 113.5762 - mae: 113.5762 - val_loss: 636.3674 - val_mae: 636.3674\n",
            "Epoch 43/100\n",
            "18/18 [==============================] - 0s 5ms/step - loss: 116.2285 - mae: 116.2285 - val_loss: 662.9263 - val_mae: 662.9263\n",
            "Epoch 44/100\n",
            "18/18 [==============================] - 0s 4ms/step - loss: 120.0192 - mae: 120.0192 - val_loss: 635.6360 - val_mae: 635.6360\n",
            "Epoch 45/100\n",
            "18/18 [==============================] - 0s 4ms/step - loss: 110.9675 - mae: 110.9675 - val_loss: 601.9926 - val_mae: 601.9926\n",
            "Epoch 46/100\n",
            "18/18 [==============================] - 0s 4ms/step - loss: 111.6012 - mae: 111.6012 - val_loss: 593.3531 - val_mae: 593.3531\n",
            "Epoch 47/100\n",
            "18/18 [==============================] - 0s 4ms/step - loss: 109.6161 - mae: 109.6161 - val_loss: 637.0011 - val_mae: 637.0011\n",
            "Epoch 48/100\n",
            "18/18 [==============================] - 0s 4ms/step - loss: 109.1368 - mae: 109.1368 - val_loss: 598.4197 - val_mae: 598.4197\n",
            "Epoch 49/100\n",
            " 1/18 [>.............................] - ETA: 0s - loss: 159.5531 - mae: 159.5531INFO:tensorflow:Assets written to: model_experiments/model_1_dense/assets\n",
            "18/18 [==============================] - 0s 25ms/step - loss: 112.4355 - mae: 112.4355 - val_loss: 579.7042 - val_mae: 579.7042\n",
            "Epoch 50/100\n",
            "18/18 [==============================] - 0s 4ms/step - loss: 110.2108 - mae: 110.2108 - val_loss: 639.2327 - val_mae: 639.2327\n",
            "Epoch 51/100\n",
            "18/18 [==============================] - 0s 4ms/step - loss: 111.0958 - mae: 111.0958 - val_loss: 597.3571 - val_mae: 597.3571\n",
            "Epoch 52/100\n",
            "18/18 [==============================] - 0s 4ms/step - loss: 110.7351 - mae: 110.7351 - val_loss: 580.7227 - val_mae: 580.7227\n",
            "Epoch 53/100\n",
            "18/18 [==============================] - 0s 4ms/step - loss: 111.1785 - mae: 111.1785 - val_loss: 648.3586 - val_mae: 648.3586\n",
            "Epoch 54/100\n",
            "18/18 [==============================] - 0s 4ms/step - loss: 114.0831 - mae: 114.0831 - val_loss: 593.2006 - val_mae: 593.2006\n",
            "Epoch 55/100\n",
            " 1/18 [>.............................] - ETA: 0s - loss: 128.6373 - mae: 128.6373INFO:tensorflow:Assets written to: model_experiments/model_1_dense/assets\n",
            "18/18 [==============================] - 0s 25ms/step - loss: 110.4910 - mae: 110.4910 - val_loss: 579.5067 - val_mae: 579.5067\n",
            "Epoch 56/100\n",
            "18/18 [==============================] - 0s 4ms/step - loss: 108.0488 - mae: 108.0488 - val_loss: 807.3853 - val_mae: 807.3853\n",
            "Epoch 57/100\n",
            "18/18 [==============================] - 0s 5ms/step - loss: 125.0614 - mae: 125.0614 - val_loss: 674.1658 - val_mae: 674.1658\n",
            "Epoch 58/100\n",
            "18/18 [==============================] - 0s 4ms/step - loss: 115.4340 - mae: 115.4340 - val_loss: 582.2697 - val_mae: 582.2697\n",
            "Epoch 59/100\n",
            "18/18 [==============================] - 0s 4ms/step - loss: 110.0881 - mae: 110.0881 - val_loss: 606.7640 - val_mae: 606.7640\n",
            "Epoch 60/100\n",
            "18/18 [==============================] - 0s 4ms/step - loss: 108.7156 - mae: 108.7156 - val_loss: 602.3099 - val_mae: 602.3099\n",
            "Epoch 61/100\n",
            " 1/18 [>.............................] - ETA: 0s - loss: 133.4817 - mae: 133.4817INFO:tensorflow:Assets written to: model_experiments/model_1_dense/assets\n",
            "18/18 [==============================] - 0s 25ms/step - loss: 108.1525 - mae: 108.1525 - val_loss: 573.9990 - val_mae: 573.9990\n",
            "Epoch 62/100\n",
            "18/18 [==============================] - 0s 4ms/step - loss: 107.3726 - mae: 107.3726 - val_loss: 581.7015 - val_mae: 581.7015\n",
            "Epoch 63/100\n",
            "18/18 [==============================] - 0s 4ms/step - loss: 110.7667 - mae: 110.7667 - val_loss: 637.5243 - val_mae: 637.5243\n",
            "Epoch 64/100\n",
            "18/18 [==============================] - 0s 4ms/step - loss: 110.1539 - mae: 110.1539 - val_loss: 586.6598 - val_mae: 586.6598\n",
            "Epoch 65/100\n",
            " 1/18 [>.............................] - ETA: 0s - loss: 127.0230 - mae: 127.0230INFO:tensorflow:Assets written to: model_experiments/model_1_dense/assets\n",
            "18/18 [==============================] - 1s 36ms/step - loss: 108.2325 - mae: 108.2325 - val_loss: 573.5618 - val_mae: 573.5618\n",
            "Epoch 66/100\n",
            " 1/18 [>.............................] - ETA: 0s - loss: 112.6009 - mae: 112.6009INFO:tensorflow:Assets written to: model_experiments/model_1_dense/assets\n",
            "18/18 [==============================] - 0s 25ms/step - loss: 108.6825 - mae: 108.6825 - val_loss: 572.2206 - val_mae: 572.2206\n",
            "Epoch 67/100\n",
            "18/18 [==============================] - 0s 4ms/step - loss: 106.6371 - mae: 106.6371 - val_loss: 646.6359 - val_mae: 646.6359\n",
            "Epoch 68/100\n",
            "18/18 [==============================] - 0s 4ms/step - loss: 114.1603 - mae: 114.1603 - val_loss: 681.8572 - val_mae: 681.8572\n",
            "Epoch 69/100\n",
            "18/18 [==============================] - 0s 4ms/step - loss: 124.5514 - mae: 124.5514 - val_loss: 655.9892 - val_mae: 655.9892\n",
            "Epoch 70/100\n",
            "18/18 [==============================] - 0s 4ms/step - loss: 125.0234 - mae: 125.0234 - val_loss: 601.0039 - val_mae: 601.0039\n",
            "Epoch 71/100\n",
            "18/18 [==============================] - 0s 4ms/step - loss: 110.3652 - mae: 110.3652 - val_loss: 595.3957 - val_mae: 595.3957\n",
            "Epoch 72/100\n",
            "18/18 [==============================] - 0s 4ms/step - loss: 107.9285 - mae: 107.9285 - val_loss: 573.7084 - val_mae: 573.7084\n",
            "Epoch 73/100\n",
            "18/18 [==============================] - 0s 4ms/step - loss: 109.5085 - mae: 109.5085 - val_loss: 580.4183 - val_mae: 580.4183\n",
            "Epoch 74/100\n",
            "18/18 [==============================] - 0s 4ms/step - loss: 108.7380 - mae: 108.7380 - val_loss: 576.1216 - val_mae: 576.1216\n",
            "Epoch 75/100\n",
            "18/18 [==============================] - 0s 4ms/step - loss: 107.9404 - mae: 107.9404 - val_loss: 591.1470 - val_mae: 591.1470\n",
            "Epoch 76/100\n",
            "18/18 [==============================] - 0s 4ms/step - loss: 109.4232 - mae: 109.4232 - val_loss: 597.8611 - val_mae: 597.8611\n",
            "Epoch 77/100\n",
            " 1/18 [>.............................] - ETA: 0s - loss: 85.1158 - mae: 85.1158INFO:tensorflow:Assets written to: model_experiments/model_1_dense/assets\n",
            "18/18 [==============================] - 0s 26ms/step - loss: 107.5879 - mae: 107.5879 - val_loss: 571.9301 - val_mae: 571.9301\n",
            "Epoch 78/100\n",
            "18/18 [==============================] - 0s 4ms/step - loss: 108.1598 - mae: 108.1598 - val_loss: 575.2387 - val_mae: 575.2387\n",
            "Epoch 79/100\n",
            "18/18 [==============================] - 0s 4ms/step - loss: 107.9175 - mae: 107.9175 - val_loss: 617.3083 - val_mae: 617.3083\n",
            "Epoch 80/100\n",
            "18/18 [==============================] - 0s 4ms/step - loss: 108.9510 - mae: 108.9510 - val_loss: 583.4841 - val_mae: 583.4841\n",
            "Epoch 81/100\n",
            " 1/18 [>.............................] - ETA: 0s - loss: 96.3487 - mae: 96.3487INFO:tensorflow:Assets written to: model_experiments/model_1_dense/assets\n",
            "18/18 [==============================] - 0s 25ms/step - loss: 106.0505 - mae: 106.0505 - val_loss: 570.0803 - val_mae: 570.0803\n",
            "Epoch 82/100\n",
            "18/18 [==============================] - 0s 5ms/step - loss: 115.6827 - mae: 115.6827 - val_loss: 575.7388 - val_mae: 575.7388\n",
            "Epoch 83/100\n",
            "18/18 [==============================] - 0s 4ms/step - loss: 110.9379 - mae: 110.9379 - val_loss: 659.6579 - val_mae: 659.6579\n",
            "Epoch 84/100\n",
            "18/18 [==============================] - 0s 4ms/step - loss: 111.4836 - mae: 111.4836 - val_loss: 570.1957 - val_mae: 570.1957\n",
            "Epoch 85/100\n",
            "18/18 [==============================] - 0s 4ms/step - loss: 107.5949 - mae: 107.5949 - val_loss: 601.5939 - val_mae: 601.5939\n",
            "Epoch 86/100\n",
            "18/18 [==============================] - 0s 4ms/step - loss: 108.9425 - mae: 108.9425 - val_loss: 592.8101 - val_mae: 592.8101\n",
            "Epoch 87/100\n",
            "18/18 [==============================] - 0s 5ms/step - loss: 105.7717 - mae: 105.7717 - val_loss: 603.6174 - val_mae: 603.6174\n",
            "Epoch 88/100\n",
            " 1/18 [>.............................] - ETA: 0s - loss: 135.4518 - mae: 135.4518INFO:tensorflow:Assets written to: model_experiments/model_1_dense/assets\n",
            "18/18 [==============================] - 0s 25ms/step - loss: 107.9217 - mae: 107.9217 - val_loss: 569.0500 - val_mae: 569.0500\n",
            "Epoch 89/100\n",
            " 1/18 [>.............................] - ETA: 0s - loss: 101.8746 - mae: 101.8746INFO:tensorflow:Assets written to: model_experiments/model_1_dense/assets\n",
            "18/18 [==============================] - 0s 24ms/step - loss: 106.0344 - mae: 106.0344 - val_loss: 568.9510 - val_mae: 568.9510\n",
            "Epoch 90/100\n",
            "18/18 [==============================] - 0s 4ms/step - loss: 105.4977 - mae: 105.4977 - val_loss: 581.7677 - val_mae: 581.7677\n",
            "Epoch 91/100\n",
            "18/18 [==============================] - 0s 4ms/step - loss: 108.8468 - mae: 108.8468 - val_loss: 573.6025 - val_mae: 573.6025\n",
            "Epoch 92/100\n",
            "18/18 [==============================] - 0s 5ms/step - loss: 110.8884 - mae: 110.8884 - val_loss: 576.8243 - val_mae: 576.8243\n",
            "Epoch 93/100\n",
            "18/18 [==============================] - 0s 4ms/step - loss: 113.8781 - mae: 113.8781 - val_loss: 608.3022 - val_mae: 608.3022\n",
            "Epoch 94/100\n",
            "18/18 [==============================] - 0s 4ms/step - loss: 110.5763 - mae: 110.5763 - val_loss: 601.6042 - val_mae: 601.6042\n",
            "Epoch 95/100\n",
            "18/18 [==============================] - 0s 5ms/step - loss: 106.5906 - mae: 106.5906 - val_loss: 570.3651 - val_mae: 570.3651\n",
            "Epoch 96/100\n",
            "18/18 [==============================] - 0s 4ms/step - loss: 116.9515 - mae: 116.9515 - val_loss: 615.2584 - val_mae: 615.2584\n",
            "Epoch 97/100\n",
            "18/18 [==============================] - 0s 4ms/step - loss: 108.0739 - mae: 108.0739 - val_loss: 580.3076 - val_mae: 580.3076\n",
            "Epoch 98/100\n",
            "18/18 [==============================] - 0s 4ms/step - loss: 108.7102 - mae: 108.7102 - val_loss: 586.6510 - val_mae: 586.6510\n",
            "Epoch 99/100\n",
            "18/18 [==============================] - 0s 4ms/step - loss: 109.0488 - mae: 109.0488 - val_loss: 570.0628 - val_mae: 570.0628\n",
            "Epoch 100/100\n",
            "18/18 [==============================] - 0s 4ms/step - loss: 106.1845 - mae: 106.1845 - val_loss: 585.9758 - val_mae: 585.9758\n"
          ]
        },
        {
          "output_type": "execute_result",
          "data": {
            "text/plain": [
              "<keras.callbacks.History at 0x7f99400c7450>"
            ]
          },
          "metadata": {},
          "execution_count": 19
        }
      ]
    },
    {
      "cell_type": "markdown",
      "source": [
        "## Оцінимо модель за тестовими даними"
      ],
      "metadata": {
        "id": "CUL4tce3HwYF"
      }
    },
    {
      "cell_type": "code",
      "source": [
        "model_1.evaluate(test_windows, test_labels)"
      ],
      "metadata": {
        "colab": {
          "base_uri": "https://localhost:8080/"
        },
        "id": "8y0foU6jHydy",
        "outputId": "f41096a0-c47f-4bb7-d69a-0b44b40f82c1"
      },
      "execution_count": 20,
      "outputs": [
        {
          "output_type": "stream",
          "name": "stdout",
          "text": [
            "18/18 [==============================] - 0s 2ms/step - loss: 585.9758 - mae: 585.9758\n"
          ]
        },
        {
          "output_type": "execute_result",
          "data": {
            "text/plain": [
              "[585.9757690429688, 585.9757690429688]"
            ]
          },
          "metadata": {},
          "execution_count": 20
        }
      ]
    },
    {
      "cell_type": "markdown",
      "source": [
        "## Завантажимо збережену найефективнішу модель_1 та оцінимо її за тестовими даними"
      ],
      "metadata": {
        "id": "8zSlQoX0H_rE"
      }
    },
    {
      "cell_type": "code",
      "source": [
        "model_1 = tf.keras.models.load_model(\"model_experiments/model_1_dense\")\n",
        "model_1.evaluate(test_windows, test_labels)"
      ],
      "metadata": {
        "colab": {
          "base_uri": "https://localhost:8080/"
        },
        "id": "aRw23jT6IES5",
        "outputId": "c0ad822f-3d9c-4942-8c5e-fc82654748cb"
      },
      "execution_count": 21,
      "outputs": [
        {
          "output_type": "stream",
          "name": "stdout",
          "text": [
            "18/18 [==============================] - 0s 4ms/step - loss: 568.9510 - mae: 568.9510\n"
          ]
        },
        {
          "output_type": "execute_result",
          "data": {
            "text/plain": [
              "[568.9510498046875, 568.9510498046875]"
            ]
          },
          "metadata": {},
          "execution_count": 21
        }
      ]
    },
    {
      "cell_type": "markdown",
      "source": [
        "## Використаємо модель для прогнозування вхідних даних"
      ],
      "metadata": {
        "id": "P8DkDp8HIPjy"
      }
    },
    {
      "cell_type": "code",
      "source": [
        "def make_preds(model, input_data):\n",
        "  forecast = model.predict(input_data)\n",
        "  return tf.squeeze(forecast) # return 1D array of predictions\n",
        "  \n",
        "model_1_preds = make_preds(model_1, test_windows)\n",
        "len(model_1_preds), model_1_preds[:10]"
      ],
      "metadata": {
        "colab": {
          "base_uri": "https://localhost:8080/"
        },
        "id": "zGVQCTHnITLB",
        "outputId": "f8c172c1-2474-483b-9c21-8cbcedea27d6"
      },
      "execution_count": 22,
      "outputs": [
        {
          "output_type": "execute_result",
          "data": {
            "text/plain": [
              "(556, <tf.Tensor: shape=(10,), dtype=float32, numpy=\n",
              " array([8861.71 , 8769.887, 9015.711, 8795.519, 8723.811, 8730.111,\n",
              "        8691.952, 8502.054, 8460.961, 8516.548], dtype=float32)>)"
            ]
          },
          "metadata": {},
          "execution_count": 22
        }
      ]
    },
    {
      "cell_type": "markdown",
      "source": [
        "## Зобразимо графік передбачень"
      ],
      "metadata": {
        "id": "bIn-I7c7IllQ"
      }
    },
    {
      "cell_type": "code",
      "source": [
        "import matplotlib.pyplot as plt\n",
        "def plot_time_series(timesteps, values, format='.', start=0, end=None, label=None):\n",
        "  # Plot the series\n",
        "  plt.plot(timesteps[start:end], values[start:end], format, label=label)\n",
        "  plt.xlabel(\"Time\")\n",
        "  plt.ylabel(\"BTC Price\")\n",
        "  if label:\n",
        "    plt.legend(fontsize=14) # make label bigger\n",
        "  plt.grid(True)\n",
        "\n",
        "offset = 300\n",
        "plt.figure(figsize=(10, 7))\n",
        "# Account for the test_window offset and index into test_labels to ensure correct plotting\n",
        "plot_time_series(timesteps=X_test[-len(test_windows):], values=test_labels[:, 0], start=offset, label=\"Test_data\")\n",
        "plot_time_series(timesteps=X_test[-len(test_windows):], values=model_1_preds, start=offset, format=\"-\", label=\"model_1_preds\")"
      ],
      "metadata": {
        "colab": {
          "base_uri": "https://localhost:8080/",
          "height": 442
        },
        "id": "sYNADiWQIolM",
        "outputId": "0365f584-9af3-4e40-f555-cf47230f7947"
      },
      "execution_count": 23,
      "outputs": [
        {
          "output_type": "display_data",
          "data": {
            "text/plain": [
              "<Figure size 720x504 with 1 Axes>"
            ],
            "image/png": "[encoded data removed]"
          },
          "metadata": {
            "needs_background": "light"
          }
        }
      ]
    },
    {
      "cell_type": "markdown",
      "source": [
        "## Висновок:\n",
        "в ході лабораторної роботи навчилися прогнозувати часові ряди відповідно до моделі model_1_dense_w7_h1. Відповідно до зображеного графіку можемо побачити, що прогнозування є доволі точним."
      ],
      "metadata": {
        "id": "Wv6VQAlUKfbi"
      }
    }
  ]
}