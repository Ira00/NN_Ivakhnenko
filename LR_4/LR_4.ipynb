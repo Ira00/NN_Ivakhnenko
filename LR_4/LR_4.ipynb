{
  "nbformat": 4,
  "nbformat_minor": 0,
  "metadata": {
    "colab": {
      "name": "LR_4.ipynb",
      "provenance": [],
      "collapsed_sections": [],
      "authorship_tag": "ABX9TyOAIFKZwRRqfIsy99Tyreh2",
      "include_colab_link": true
    },
    "kernelspec": {
      "name": "python3",
      "display_name": "Python 3"
    },
    "language_info": {
      "name": "python"
    },
    "accelerator": "GPU"
  },
  "cells": [
    {
      "cell_type": "markdown",
      "metadata": {
        "id": "view-in-github",
        "colab_type": "text"
      },
      "source": [
        "<a href=\"https://colab.research.google.com/github/Ira00/nn2022/blob/main/LR_4/LR_4.ipynb\" target=\"_parent\"><img src=\"https://colab.research.google.com/assets/colab-badge.svg\" alt=\"Open In Colab\"/></a>"
      ]
    },
    {
      "cell_type": "markdown",
      "source": [
        "# Лабораторна робота №4\n",
        "студентки 3 курсу групи КН-31\n",
        "Івахненко Ірини"
      ],
      "metadata": {
        "id": "YoZQ71SsxWxY"
      }
    },
    {
      "cell_type": "markdown",
      "source": [
        "## Завдання 1"
      ],
      "metadata": {
        "id": "EzjFlfHtxbyH"
      }
    },
    {
      "cell_type": "markdown",
      "source": [
        "На основі документу вирішити завдання класифікації для набору даних Fashion MNIST."
      ],
      "metadata": {
        "id": "twsfYmWGxcc0"
      }
    },
    {
      "cell_type": "code",
      "source": [
        "import tensorflow as tf\n",
        "from tensorflow.keras.datasets import fashion_mnist\n",
        "\n",
        "# fashion_mnist = keras.datasets.fashion_mnist\n",
        "(train_data, train_labels), (test_data, test_labels) = fashion_mnist.load_data()\n",
        "print(len(train_data), len(test_data))\n"
      ],
      "metadata": {
        "colab": {
          "base_uri": "https://localhost:8080/"
        },
        "id": "mlXRCK6bxwyc",
        "outputId": "a8c375f2-f4bd-4852-c1da-10f5e367d442"
      },
      "execution_count": null,
      "outputs": [
        {
          "output_type": "stream",
          "name": "stdout",
          "text": [
            "60000 10000\n"
          ]
        }
      ]
    },
    {
      "cell_type": "markdown",
      "source": [
        "## Завдання 2"
      ],
      "metadata": {
        "id": "ez6UMpy4xhEH"
      }
    },
    {
      "cell_type": "markdown",
      "source": [
        "Для моделювання використати 3 класи індекси яких взяти відповідно до номеру у списку групи.\n",
        "6, 9, 3"
      ],
      "metadata": {
        "id": "JvvIb85CxjVT"
      }
    },
    {
      "cell_type": "code",
      "source": [
        "import numpy as np\n",
        "\n",
        "class_names = ['Dress','Shirt','Ankle boot']\n",
        "\n",
        "train_data_new = []\n",
        "train_labels_new = []\n",
        "test_data_new = []\n",
        "test_labels_new = []\n",
        "\n",
        "for i in range(len(train_labels)):\n",
        "  if (train_labels[i] in [3,6,9] ):\n",
        "    train_data_new.append(train_data[i])\n",
        "    train_labels_new.append(train_labels[i])\n",
        "for i in range(len(test_labels)):\n",
        "  if (test_labels[i] in [3,6,9] ):\n",
        "    test_data_new.append(test_data[i])\n",
        "    test_labels_new.append(test_labels[i])\n",
        "\n",
        "print(len(train_data_new), len(test_data_new))\n",
        "\n",
        "print(train_data_new[0][5])\n",
        "\n",
        "train_labels_new = np.array(train_labels_new)\n",
        "test_labels_new = np.array(test_labels_new)\n",
        "train_data_new = np.array(train_data_new) / 255.0\n",
        "test_data_new = np.array(test_data_new) / 255.0\n",
        "\n",
        "print(train_data_new[0][5])\n"
      ],
      "metadata": {
        "id": "6ahpOlqv1h1p",
        "colab": {
          "base_uri": "https://localhost:8080/"
        },
        "outputId": "6dcd94ca-ed5e-4b25-e0b1-29ff3e10ea27"
      },
      "execution_count": null,
      "outputs": [
        {
          "output_type": "stream",
          "name": "stdout",
          "text": [
            "18000 3000\n",
            "[  0   0   0   0   0   0   0   0   0   0   0   0   6   0 102 204 176 134\n",
            " 144 123  23   0   0   0   0  12  10   0]\n",
            "[0.         0.         0.         0.         0.         0.\n",
            " 0.         0.         0.         0.         0.         0.\n",
            " 0.02352941 0.         0.4        0.8        0.69019608 0.5254902\n",
            " 0.56470588 0.48235294 0.09019608 0.         0.         0.\n",
            " 0.         0.04705882 0.03921569 0.        ]\n"
          ]
        }
      ]
    },
    {
      "cell_type": "markdown",
      "source": [
        "## Завдання 3\n"
      ],
      "metadata": {
        "id": "c3bpMixGxlX1"
      }
    },
    {
      "cell_type": "markdown",
      "source": [
        "Моделювання провести із використанням нейронної мережі (Flatten & Dense layers).\n"
      ],
      "metadata": {
        "id": "ueBQDqjxxosF"
      }
    },
    {
      "cell_type": "code",
      "source": [
        "tf.random.set_seed(42)\n",
        "\n",
        "\n",
        "model = tf.keras.Sequential([\n",
        "  tf.keras.layers.Flatten(input_shape=(28, 28)),\n",
        "  tf.keras.layers.Dense(4, activation=\"relu\"),\n",
        "  tf.keras.layers.Dense(4, activation=\"relu\"),\n",
        "  tf.keras.layers.Dense(10, activation=\"softmax\") \n",
        "])\n",
        "\n",
        "\n",
        "model.compile(loss=tf.keras.losses.SparseCategoricalCrossentropy(),\n",
        "                 optimizer=tf.keras.optimizers.Adam(lr=0.001),\n",
        "                 metrics=[\"accuracy\"])\n",
        "\n",
        "\n",
        "history = model.fit(train_data_new,\n",
        "                       train_labels_new,\n",
        "                       epochs=40,\n",
        "                       validation_data=(test_data_new, test_labels_new))"
      ],
      "metadata": {
        "colab": {
          "base_uri": "https://localhost:8080/"
        },
        "id": "mmTvU2Qn8ubB",
        "outputId": "5611da0e-bd6b-4575-e2f9-523bcd79fc2b"
      },
      "execution_count": null,
      "outputs": [
        {
          "output_type": "stream",
          "name": "stdout",
          "text": [
            "Epoch 1/40\n"
          ]
        },
        {
          "output_type": "stream",
          "name": "stderr",
          "text": [
            "/usr/local/lib/python3.7/dist-packages/keras/optimizer_v2/adam.py:105: UserWarning: The `lr` argument is deprecated, use `learning_rate` instead.\n",
            "  super(Adam, self).__init__(name, **kwargs)\n"
          ]
        },
        {
          "output_type": "stream",
          "name": "stdout",
          "text": [
            "563/563 [==============================] - 3s 5ms/step - loss: 0.5877 - accuracy: 0.8412 - val_loss: 0.1624 - val_accuracy: 0.9467\n",
            "Epoch 2/40\n",
            "563/563 [==============================] - 2s 4ms/step - loss: 0.1240 - accuracy: 0.9556 - val_loss: 0.1518 - val_accuracy: 0.9443\n",
            "Epoch 3/40\n",
            "563/563 [==============================] - 2s 4ms/step - loss: 0.1102 - accuracy: 0.9601 - val_loss: 0.1414 - val_accuracy: 0.9513\n",
            "Epoch 4/40\n",
            "563/563 [==============================] - 2s 4ms/step - loss: 0.1051 - accuracy: 0.9613 - val_loss: 0.1362 - val_accuracy: 0.9497\n",
            "Epoch 5/40\n",
            "563/563 [==============================] - 2s 4ms/step - loss: 0.1006 - accuracy: 0.9626 - val_loss: 0.1355 - val_accuracy: 0.9540\n",
            "Epoch 6/40\n",
            "563/563 [==============================] - 2s 4ms/step - loss: 0.0989 - accuracy: 0.9637 - val_loss: 0.1323 - val_accuracy: 0.9527\n",
            "Epoch 7/40\n",
            "563/563 [==============================] - 2s 4ms/step - loss: 0.0959 - accuracy: 0.9637 - val_loss: 0.1375 - val_accuracy: 0.9540\n",
            "Epoch 8/40\n",
            "563/563 [==============================] - 2s 4ms/step - loss: 0.0951 - accuracy: 0.9649 - val_loss: 0.1397 - val_accuracy: 0.9503\n",
            "Epoch 9/40\n",
            "563/563 [==============================] - 2s 4ms/step - loss: 0.0970 - accuracy: 0.9639 - val_loss: 0.1655 - val_accuracy: 0.9447\n",
            "Epoch 10/40\n",
            "563/563 [==============================] - 2s 4ms/step - loss: 0.0975 - accuracy: 0.9644 - val_loss: 0.1373 - val_accuracy: 0.9513\n",
            "Epoch 11/40\n",
            "563/563 [==============================] - 2s 4ms/step - loss: 0.0935 - accuracy: 0.9641 - val_loss: 0.1383 - val_accuracy: 0.9513\n",
            "Epoch 12/40\n",
            "563/563 [==============================] - 2s 4ms/step - loss: 0.0907 - accuracy: 0.9664 - val_loss: 0.1544 - val_accuracy: 0.9470\n",
            "Epoch 13/40\n",
            "563/563 [==============================] - 3s 5ms/step - loss: 0.0900 - accuracy: 0.9663 - val_loss: 0.1400 - val_accuracy: 0.9520\n",
            "Epoch 14/40\n",
            "563/563 [==============================] - 2s 4ms/step - loss: 0.0905 - accuracy: 0.9654 - val_loss: 0.1373 - val_accuracy: 0.9527\n",
            "Epoch 15/40\n",
            "563/563 [==============================] - 2s 4ms/step - loss: 0.0885 - accuracy: 0.9673 - val_loss: 0.1436 - val_accuracy: 0.9503\n",
            "Epoch 16/40\n",
            "563/563 [==============================] - 2s 4ms/step - loss: 0.0884 - accuracy: 0.9671 - val_loss: 0.1380 - val_accuracy: 0.9523\n",
            "Epoch 17/40\n",
            "563/563 [==============================] - 2s 4ms/step - loss: 0.0900 - accuracy: 0.9657 - val_loss: 0.1398 - val_accuracy: 0.9497\n",
            "Epoch 18/40\n",
            "563/563 [==============================] - 2s 4ms/step - loss: 0.0875 - accuracy: 0.9678 - val_loss: 0.1637 - val_accuracy: 0.9460\n",
            "Epoch 19/40\n",
            "563/563 [==============================] - 2s 4ms/step - loss: 0.0910 - accuracy: 0.9658 - val_loss: 0.1473 - val_accuracy: 0.9507\n",
            "Epoch 20/40\n",
            "563/563 [==============================] - 2s 4ms/step - loss: 0.0868 - accuracy: 0.9670 - val_loss: 0.1668 - val_accuracy: 0.9450\n",
            "Epoch 21/40\n",
            "563/563 [==============================] - 2s 4ms/step - loss: 0.0858 - accuracy: 0.9677 - val_loss: 0.1471 - val_accuracy: 0.9497\n",
            "Epoch 22/40\n",
            "563/563 [==============================] - 2s 4ms/step - loss: 0.0869 - accuracy: 0.9682 - val_loss: 0.1428 - val_accuracy: 0.9523\n",
            "Epoch 23/40\n",
            "563/563 [==============================] - 2s 4ms/step - loss: 0.0875 - accuracy: 0.9676 - val_loss: 0.1474 - val_accuracy: 0.9513\n",
            "Epoch 24/40\n",
            "563/563 [==============================] - 2s 4ms/step - loss: 0.0874 - accuracy: 0.9673 - val_loss: 0.1546 - val_accuracy: 0.9500\n",
            "Epoch 25/40\n",
            "563/563 [==============================] - 2s 4ms/step - loss: 0.0857 - accuracy: 0.9676 - val_loss: 0.1464 - val_accuracy: 0.9523\n",
            "Epoch 26/40\n",
            "563/563 [==============================] - 2s 4ms/step - loss: 0.0854 - accuracy: 0.9683 - val_loss: 0.1507 - val_accuracy: 0.9490\n",
            "Epoch 27/40\n",
            "563/563 [==============================] - 2s 4ms/step - loss: 0.0854 - accuracy: 0.9677 - val_loss: 0.1475 - val_accuracy: 0.9527\n",
            "Epoch 28/40\n",
            "563/563 [==============================] - 2s 4ms/step - loss: 0.0859 - accuracy: 0.9673 - val_loss: 0.1547 - val_accuracy: 0.9510\n",
            "Epoch 29/40\n",
            "563/563 [==============================] - 2s 4ms/step - loss: 0.0839 - accuracy: 0.9690 - val_loss: 0.1472 - val_accuracy: 0.9517\n",
            "Epoch 30/40\n",
            "563/563 [==============================] - 2s 4ms/step - loss: 0.0846 - accuracy: 0.9687 - val_loss: 0.1508 - val_accuracy: 0.9537\n",
            "Epoch 31/40\n",
            "563/563 [==============================] - 2s 4ms/step - loss: 0.0843 - accuracy: 0.9692 - val_loss: 0.1521 - val_accuracy: 0.9517\n",
            "Epoch 32/40\n",
            "563/563 [==============================] - 2s 4ms/step - loss: 0.0827 - accuracy: 0.9700 - val_loss: 0.1524 - val_accuracy: 0.9507\n",
            "Epoch 33/40\n",
            "563/563 [==============================] - 2s 4ms/step - loss: 0.0829 - accuracy: 0.9686 - val_loss: 0.1544 - val_accuracy: 0.9497\n",
            "Epoch 34/40\n",
            "563/563 [==============================] - 2s 4ms/step - loss: 0.0834 - accuracy: 0.9695 - val_loss: 0.1660 - val_accuracy: 0.9483\n",
            "Epoch 35/40\n",
            "563/563 [==============================] - 2s 4ms/step - loss: 0.0838 - accuracy: 0.9679 - val_loss: 0.1547 - val_accuracy: 0.9527\n",
            "Epoch 36/40\n",
            "563/563 [==============================] - 2s 4ms/step - loss: 0.0829 - accuracy: 0.9681 - val_loss: 0.1524 - val_accuracy: 0.9510\n",
            "Epoch 37/40\n",
            "563/563 [==============================] - 2s 4ms/step - loss: 0.0835 - accuracy: 0.9694 - val_loss: 0.1599 - val_accuracy: 0.9503\n",
            "Epoch 38/40\n",
            "563/563 [==============================] - 2s 4ms/step - loss: 0.0835 - accuracy: 0.9692 - val_loss: 0.1573 - val_accuracy: 0.9523\n",
            "Epoch 39/40\n",
            "563/563 [==============================] - 2s 4ms/step - loss: 0.0828 - accuracy: 0.9687 - val_loss: 0.1516 - val_accuracy: 0.9513\n",
            "Epoch 40/40\n",
            "563/563 [==============================] - 2s 4ms/step - loss: 0.0830 - accuracy: 0.9695 - val_loss: 0.1531 - val_accuracy: 0.9520\n"
          ]
        }
      ]
    },
    {
      "cell_type": "markdown",
      "source": [
        "## Завдання 4"
      ],
      "metadata": {
        "id": "wyIhxPszxqre"
      }
    },
    {
      "cell_type": "markdown",
      "source": [
        "Здійснити вибір оптимального кроку градієнтного алгоритму (learning_rate), а також побудову Confusion Matrix.\n"
      ],
      "metadata": {
        "id": "33j-8zxyxto4"
      }
    },
    {
      "cell_type": "code",
      "execution_count": null,
      "metadata": {
        "id": "65Ovkum2xTRo",
        "colab": {
          "base_uri": "https://localhost:8080/",
          "height": 302
        },
        "outputId": "5ef295a4-0dc5-4ddd-cb7d-df4d67493fee"
      },
      "outputs": [
        {
          "output_type": "execute_result",
          "data": {
            "text/plain": [
              "Text(0.5, 1.0, 'Finding the ideal learning rate')"
            ]
          },
          "metadata": {},
          "execution_count": 89
        },
        {
          "output_type": "display_data",
          "data": {
            "text/plain": [
              "<Figure size 432x288 with 1 Axes>"
            ],
            "image/png": "[encoded data removed]"
          },
          "metadata": {
            "needs_background": "light"
          }
        }
      ],
      "source": [
        "import matplotlib.pyplot as plt\n",
        "lrs = 1e-3 * (10**(np.arange(40)/20))\n",
        "plt.semilogx(lrs, history.history[\"loss\"]) \n",
        "plt.title(\"Finding the ideal learning rate\")\n",
        "\n",
        "\n"
      ]
    },
    {
      "cell_type": "code",
      "source": [
        "from sklearn.metrics import confusion_matrix\n",
        "import pandas as pd\n",
        "import seaborn as sns\n",
        "\n",
        "test_loss, test_acc = model.evaluate(test_data_new, test_labels_new)\n",
        "\n",
        "\n",
        "predictions = model.predict(test_data_new)\n",
        "y_predictions = []\n",
        "for i in predictions:\n",
        "  i_max = np.argmax(i)\n",
        "  y_predictions = np.append(y_predictions, i_max)\n",
        "\n",
        "cm = confusion_matrix(test_labels_new, y_predictions)\n",
        "dataframe_cm = pd.DataFrame(cm, index = class_names, columns = class_names)\n",
        "\n",
        "sns.heatmap(dataframe_cm, annot=True, cmap=\"summer\")\n",
        "plt.title('Confusion Matrix')\n",
        "\n",
        "\n",
        "plt.show()\n"
      ],
      "metadata": {
        "colab": {
          "base_uri": "https://localhost:8080/",
          "height": 298
        },
        "id": "w_5jfFEJBoCk",
        "outputId": "e2e531e6-bd6d-4557-ef6e-2eaad36c8380"
      },
      "execution_count": null,
      "outputs": [
        {
          "output_type": "stream",
          "name": "stdout",
          "text": [
            "94/94 [==============================] - 0s 3ms/step - loss: 0.1531 - accuracy: 0.9520\n"
          ]
        },
        {
          "output_type": "display_data",
          "data": {
            "text/plain": [
              "<Figure size 432x288 with 2 Axes>"
            ],
            "image/png": "[encoded data removed]"
          },
          "metadata": {
            "needs_background": "light"
          }
        }
      ]
    },
    {
      "cell_type": "markdown",
      "source": [
        "# Висновок:\n",
        "в ході лабораторної роботи вирішили завдання класифікації для набору даних 3 класів 'Dress','Shirt','Ankle boot' з Fashion MNIST.\n"
      ],
      "metadata": {
        "id": "1ZLR-HC0MdAA"
      }
    }
  ]
}