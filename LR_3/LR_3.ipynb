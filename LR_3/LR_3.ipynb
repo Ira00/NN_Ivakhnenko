{
  "nbformat": 4,
  "nbformat_minor": 0,
  "metadata": {
    "colab": {
      "name": "LR_3.ipynb",
      "provenance": [],
      "toc_visible": true,
      "mount_file_id": "1qEUlfeHhwm3Yf3g4sxgeCz3mvfKYXNnJ",
      "authorship_tag": "ABX9TyNiGr4/uVffT7rlPJDo0w2v",
      "include_colab_link": true
    },
    "kernelspec": {
      "name": "python3",
      "display_name": "Python 3"
    },
    "language_info": {
      "name": "python"
    },
    "accelerator": "GPU"
  },
  "cells": [
    {
      "cell_type": "markdown",
      "metadata": {
        "id": "view-in-github",
        "colab_type": "text"
      },
      "source": [
        "<a href=\"https://colab.research.google.com/github/Ira00/nn2022/blob/main/LR_3/LR_3.ipynb\" target=\"_parent\"><img src=\"https://colab.research.google.com/assets/colab-badge.svg\" alt=\"Open In Colab\"/></a>"
      ]
    },
    {
      "cell_type": "markdown",
      "source": [
        "# Лабораторна робота №3\n",
        "студентки 3 курсу групи КН-31\n",
        "Івахненко Ірини"
      ],
      "metadata": {
        "id": "Pr6nvxLlxv6K"
      }
    },
    {
      "cell_type": "markdown",
      "source": [
        "## Завдання 1"
      ],
      "metadata": {
        "id": "08kaVAv-q6nw"
      }
    },
    {
      "cell_type": "markdown",
      "source": [
        "Згенерувати набір даних за допомогою означеної функції, з використанням якнайбільшої кількості параметрів."
      ],
      "metadata": {
        "id": "MxiL7r2Yq9S_"
      }
    },
    {
      "cell_type": "code",
      "source": [
        "from sklearn.datasets import make_regression\n",
        "from matplotlib import pyplot\n",
        "X, y = make_regression(n_samples=2300000, n_features=1, noise=10, bias=5, n_informative=3)\n",
        "pyplot.scatter(X,y)\n",
        "pyplot.show()\n"
      ],
      "metadata": {
        "colab": {
          "base_uri": "https://localhost:8080/",
          "height": 265
        },
        "id": "8JG8UKQzrJb-",
        "outputId": "a2162fa2-3773-493e-e3e1-eb4c0480e586"
      },
      "execution_count": 28,
      "outputs": [
        {
          "output_type": "display_data",
          "data": {
            "text/plain": [
              "<Figure size 432x288 with 1 Axes>"
            ],
            "image/png": "[encoded data removed]"
          },
          "metadata": {
            "needs_background": "light"
          }
        }
      ]
    },
    {
      "cell_type": "markdown",
      "source": [
        "## Завдання 2"
      ],
      "metadata": {
        "id": "K315TIfMrSZR"
      }
    },
    {
      "cell_type": "markdown",
      "source": [
        "Здійснити моделювання згенерованого набору даних та візуалізацію результатів."
      ],
      "metadata": {
        "id": "xc-QC5JVrOkl"
      }
    },
    {
      "cell_type": "code",
      "source": [
        "from sklearn.model_selection import train_test_split\n",
        "from sklearn.linear_model import LinearRegression\n",
        "import pandas as pd\n",
        "X_train, X_test, y_train, y_test = train_test_split(X, y, test_size=0.2, random_state=0)\n",
        "print('X-train: ',len(X_train), 'y-train: ', len(y_train))\n",
        "print('X-test: ', len(X_test), 'y-test: ', len(y_test))\n",
        "\n",
        "regressor = LinearRegression().fit(X_train, y_train)\n",
        "y_pred = regressor.predict(X_test)\n",
        "\n",
        "pyplot.scatter(X_test,y_pred)\n",
        "pyplot.show()\n",
        "df = pd.DataFrame({'Actual': y_test, 'Predicted': y_pred})\n",
        "df"
      ],
      "metadata": {
        "colab": {
          "base_uri": "https://localhost:8080/",
          "height": 701
        },
        "id": "YGNg_vUPrP8X",
        "outputId": "7c1ec19b-62b8-4695-b862-732f7285dc12"
      },
      "execution_count": 30,
      "outputs": [
        {
          "output_type": "stream",
          "name": "stdout",
          "text": [
            "X-train:  1840000 y-train:  1840000\n",
            "X-test:  460000 y-test:  460000\n"
          ]
        },
        {
          "output_type": "display_data",
          "data": {
            "text/plain": [
              "<Figure size 432x288 with 1 Axes>"
            ],
            "image/png": "[encoded data removed]"
          },
          "metadata": {
            "needs_background": "light"
          }
        },
        {
          "output_type": "execute_result",
          "data": {
            "text/plain": [
              "            Actual   Predicted\n",
              "0        -3.332984   -9.626839\n",
              "1       -40.902316  -34.274182\n",
              "2       -61.995522  -62.168751\n",
              "3        55.620193   57.766014\n",
              "4      -140.541159 -140.088346\n",
              "...            ...         ...\n",
              "459995  105.431448   94.673521\n",
              "459996   42.134633   50.266472\n",
              "459997   31.837570   26.641821\n",
              "459998  -30.909732  -33.354675\n",
              "459999  -23.460773  -23.279201\n",
              "\n",
              "[460000 rows x 2 columns]"
            ],
            "text/html": [
              "\n",
              "  <div id=\"df-bb5d3c54-6f5f-45b8-9566-d877c3ad0249\">\n",
              "    <div class=\"colab-df-container\">\n",
              "      <div>\n",
              "<style scoped>\n",
              "    .dataframe tbody tr th:only-of-type {\n",
              "        vertical-align: middle;\n",
              "    }\n",
              "\n",
              "    .dataframe tbody tr th {\n",
              "        vertical-align: top;\n",
              "    }\n",
              "\n",
              "    .dataframe thead th {\n",
              "        text-align: right;\n",
              "    }\n",
              "</style>\n",
              "<table border=\"1\" class=\"dataframe\">\n",
              "  <thead>\n",
              "    <tr style=\"text-align: right;\">\n",
              "      <th></th>\n",
              "      <th>Actual</th>\n",
              "      <th>Predicted</th>\n",
              "    </tr>\n",
              "  </thead>\n",
              "  <tbody>\n",
              "    <tr>\n",
              "      <th>0</th>\n",
              "      <td>-3.332984</td>\n",
              "      <td>-9.626839</td>\n",
              "    </tr>\n",
              "    <tr>\n",
              "      <th>1</th>\n",
              "      <td>-40.902316</td>\n",
              "      <td>-34.274182</td>\n",
              "    </tr>\n",
              "    <tr>\n",
              "      <th>2</th>\n",
              "      <td>-61.995522</td>\n",
              "      <td>-62.168751</td>\n",
              "    </tr>\n",
              "    <tr>\n",
              "      <th>3</th>\n",
              "      <td>55.620193</td>\n",
              "      <td>57.766014</td>\n",
              "    </tr>\n",
              "    <tr>\n",
              "      <th>4</th>\n",
              "      <td>-140.541159</td>\n",
              "      <td>-140.088346</td>\n",
              "    </tr>\n",
              "    <tr>\n",
              "      <th>...</th>\n",
              "      <td>...</td>\n",
              "      <td>...</td>\n",
              "    </tr>\n",
              "    <tr>\n",
              "      <th>459995</th>\n",
              "      <td>105.431448</td>\n",
              "      <td>94.673521</td>\n",
              "    </tr>\n",
              "    <tr>\n",
              "      <th>459996</th>\n",
              "      <td>42.134633</td>\n",
              "      <td>50.266472</td>\n",
              "    </tr>\n",
              "    <tr>\n",
              "      <th>459997</th>\n",
              "      <td>31.837570</td>\n",
              "      <td>26.641821</td>\n",
              "    </tr>\n",
              "    <tr>\n",
              "      <th>459998</th>\n",
              "      <td>-30.909732</td>\n",
              "      <td>-33.354675</td>\n",
              "    </tr>\n",
              "    <tr>\n",
              "      <th>459999</th>\n",
              "      <td>-23.460773</td>\n",
              "      <td>-23.279201</td>\n",
              "    </tr>\n",
              "  </tbody>\n",
              "</table>\n",
              "<p>460000 rows × 2 columns</p>\n",
              "</div>\n",
              "      <button class=\"colab-df-convert\" onclick=\"convertToInteractive('df-bb5d3c54-6f5f-45b8-9566-d877c3ad0249')\"\n",
              "              title=\"Convert this dataframe to an interactive table.\"\n",
              "              style=\"display:none;\">\n",
              "        \n",
              "  <svg xmlns=\"http://www.w3.org/2000/svg\" height=\"24px\"viewBox=\"0 0 24 24\"\n",
              "       width=\"24px\">\n",
              "    <path d=\"M0 0h24v24H0V0z\" fill=\"none\"/>\n",
              "    <path d=\"M18.56 5.44l.94 2.06.94-2.06 2.06-.94-2.06-.94-.94-2.06-.94 2.06-2.06.94zm-11 1L8.5 8.5l.94-2.06 2.06-.94-2.06-.94L8.5 2.5l-.94 2.06-2.06.94zm10 10l.94 2.06.94-2.06 2.06-.94-2.06-.94-.94-2.06-.94 2.06-2.06.94z\"/><path d=\"M17.41 7.96l-1.37-1.37c-.4-.4-.92-.59-1.43-.59-.52 0-1.04.2-1.43.59L10.3 9.45l-7.72 7.72c-.78.78-.78 2.05 0 2.83L4 21.41c.39.39.9.59 1.41.59.51 0 1.02-.2 1.41-.59l7.78-7.78 2.81-2.81c.8-.78.8-2.07 0-2.86zM5.41 20L4 18.59l7.72-7.72 1.47 1.35L5.41 20z\"/>\n",
              "  </svg>\n",
              "      </button>\n",
              "      \n",
              "  <style>\n",
              "    .colab-df-container {\n",
              "      display:flex;\n",
              "      flex-wrap:wrap;\n",
              "      gap: 12px;\n",
              "    }\n",
              "\n",
              "    .colab-df-convert {\n",
              "      background-color: #E8F0FE;\n",
              "      border: none;\n",
              "      border-radius: 50%;\n",
              "      cursor: pointer;\n",
              "      display: none;\n",
              "      fill: #1967D2;\n",
              "      height: 32px;\n",
              "      padding: 0 0 0 0;\n",
              "      width: 32px;\n",
              "    }\n",
              "\n",
              "    .colab-df-convert:hover {\n",
              "      background-color: #E2EBFA;\n",
              "      box-shadow: 0px 1px 2px rgba(60, 64, 67, 0.3), 0px 1px 3px 1px rgba(60, 64, 67, 0.15);\n",
              "      fill: #174EA6;\n",
              "    }\n",
              "\n",
              "    [theme=dark] .colab-df-convert {\n",
              "      background-color: #3B4455;\n",
              "      fill: #D2E3FC;\n",
              "    }\n",
              "\n",
              "    [theme=dark] .colab-df-convert:hover {\n",
              "      background-color: #434B5C;\n",
              "      box-shadow: 0px 1px 3px 1px rgba(0, 0, 0, 0.15);\n",
              "      filter: drop-shadow(0px 1px 2px rgba(0, 0, 0, 0.3));\n",
              "      fill: #FFFFFF;\n",
              "    }\n",
              "  </style>\n",
              "\n",
              "      <script>\n",
              "        const buttonEl =\n",
              "          document.querySelector('#df-bb5d3c54-6f5f-45b8-9566-d877c3ad0249 button.colab-df-convert');\n",
              "        buttonEl.style.display =\n",
              "          google.colab.kernel.accessAllowed ? 'block' : 'none';\n",
              "\n",
              "        async function convertToInteractive(key) {\n",
              "          const element = document.querySelector('#df-bb5d3c54-6f5f-45b8-9566-d877c3ad0249');\n",
              "          const dataTable =\n",
              "            await google.colab.kernel.invokeFunction('convertToInteractive',\n",
              "                                                     [key], {});\n",
              "          if (!dataTable) return;\n",
              "\n",
              "          const docLinkHtml = 'Like what you see? Visit the ' +\n",
              "            '<a target=\"_blank\" href=https://colab.research.google.com/notebooks/data_table.ipynb>data table notebook</a>'\n",
              "            + ' to learn more about interactive tables.';\n",
              "          element.innerHTML = '';\n",
              "          dataTable['output_type'] = 'display_data';\n",
              "          await google.colab.output.renderOutput(dataTable, element);\n",
              "          const docLink = document.createElement('div');\n",
              "          docLink.innerHTML = docLinkHtml;\n",
              "          element.appendChild(docLink);\n",
              "        }\n",
              "      </script>\n",
              "    </div>\n",
              "  </div>\n",
              "  "
            ]
          },
          "metadata": {},
          "execution_count": 30
        }
      ]
    },
    {
      "cell_type": "markdown",
      "source": [
        "## Завдання 3"
      ],
      "metadata": {
        "id": "0UjLyUzVwtWr"
      }
    },
    {
      "cell_type": "markdown",
      "source": [
        "Надати значення метрик якості, приклад прогнозування\n"
      ],
      "metadata": {
        "id": "vN2dYQ_iwvWQ"
      }
    },
    {
      "cell_type": "code",
      "source": [
        "from sklearn import metrics\n",
        "import numpy as np\n",
        "print('Mean Absolute Error:', metrics.mean_absolute_error(y_test, y_pred))\n",
        "print('Mean Squared Error:', metrics.mean_squared_error(y_test, y_pred))\n",
        "print('Root Mean Squared Error:', np.sqrt(metrics.mean_squared_error(y_test, y_pred)))\n"
      ],
      "metadata": {
        "colab": {
          "base_uri": "https://localhost:8080/"
        },
        "id": "5Tx7hG12wz5c",
        "outputId": "94aa0ec1-43c2-4f2e-ef22-977ac4ac92c6"
      },
      "execution_count": 25,
      "outputs": [
        {
          "output_type": "stream",
          "name": "stdout",
          "text": [
            "Mean Absolute Error: 4.795460883977034\n",
            "Mean Squared Error: 36.118762819547804\n",
            "Root Mean Squared Error: 6.009888752676526\n"
          ]
        }
      ]
    },
    {
      "cell_type": "markdown",
      "source": [
        "## Висновок:\n",
        "В ході лабораторної роботи вивчили особливості задачі регресії, метрики оцінки якості регресора. З використанням бібліотеки Sklearn вирішили задачу регресії. "
      ],
      "metadata": {
        "id": "_qdA-_wlz0cS"
      }
    }
  ]
}