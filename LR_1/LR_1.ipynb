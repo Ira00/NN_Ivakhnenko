{
  "nbformat": 4,
  "nbformat_minor": 0,
  "metadata": {
    "colab": {
      "name": "Untitled1.ipynb",
      "provenance": [],
      "authorship_tag": "ABX9TyMEwX+KsU4UmNmtZSUe0Qg4",
      "include_colab_link": true
    },
    "kernelspec": {
      "name": "python3",
      "display_name": "Python 3"
    },
    "language_info": {
      "name": "python"
    }
  },
  "cells": [
    {
      "cell_type": "markdown",
      "metadata": {
        "id": "view-in-github",
        "colab_type": "text"
      },
      "source": [
        "<a href=\"https://colab.research.google.com/github/Ira00/nn2022/blob/main/LR_1/LR_11.ipynb\" target=\"_parent\"><img src=\"https://colab.research.google.com/assets/colab-badge.svg\" alt=\"Open In Colab\"/></a>"
      ]
    },
    {
      "cell_type": "markdown",
      "source": [
        "**Лабораторна робота №1**\n",
        "студентки 3 курсу групи КН-31\n",
        "Івахненко Ірини"
      ],
      "metadata": {
        "id": "61wIlNi3AGfi"
      }
    },
    {
      "cell_type": "code",
      "execution_count": 1,
      "metadata": {
        "colab": {
          "base_uri": "https://localhost:8080/",
          "height": 265
        },
        "id": "pszDcGt3_ntt",
        "outputId": "942b05ea-169e-4d2c-a2f4-973bc2a8f96c"
      },
      "outputs": [
        {
          "output_type": "display_data",
          "data": {
            "image/png": "[encoded data removed]",
            "text/plain": [
              "<Figure size 432x288 with 1 Axes>"
            ]
          },
          "metadata": {
            "needs_background": "light"
          }
        }
      ],
      "source": [
        "import matplotlib.pyplot as plt\n",
        "\n",
        "# !pip install numpy\n",
        "import numpy as np\n",
        "x=[0,1,2,3]\n",
        "\n",
        "x=np.array(x)\n",
        "\n",
        "y=[-0.1,1.1,1.9,3.1]\n",
        "plt.scatter(x,y,color=\"blue\",linewidths=1)\n",
        "# plt.plot(x,color='orange')\n",
        "plt.plot(x+0.1,color='yellow')\n",
        "# plt.plot(x-0.1,color='brown')\n",
        "plt.plot(x*.8+0.3,color='violet')\n",
        "\n",
        "plt.show()"
      ]
    }
  ]
}
